{
 "cells": [
  {
   "cell_type": "code",
   "execution_count": 13,
   "metadata": {},
   "outputs": [],
   "source": [
    "import sys \n",
    "import matplotlib.pyplot as plt\n",
    "import numpy as np\n",
    "sys.path.append('../')\n",
    "import warnings\n",
    "import seaborn as sns\n",
    "# To suppress all warnings\n",
    "warnings.filterwarnings(\"ignore\")\n",
    "%matplotlib inline\n",
    "import pandas as pd\n",
    "from pysr import PySRRegressor\n",
    "from sklearn.model_selection import train_test_split\n",
    "#import scaler\n",
    "from sklearn.preprocessing import StandardScaler"
   ]
  },
  {
   "cell_type": "code",
   "execution_count": 2,
   "metadata": {},
   "outputs": [],
   "source": [
    "%load_ext autoreload\n",
    "%autoreload 2\n",
    "from database import Magneticum\n",
    "from relation import Scaling\n",
    "from relation import Distribution\n",
    "from relation import Analysis\n",
    "from relation import RandomForest"
   ]
  },
  {
   "cell_type": "code",
   "execution_count": 3,
   "metadata": {},
   "outputs": [],
   "source": [
    "def data_manupulation(df):\n",
    "    dff = df.copy()\n",
    "    dff = dff[['Yksz','M','gas_frac','Vz']]\n",
    "    q_list = [0,0.25,0.5,0.75,1]\n",
    "    labels = [1,2,3,4]\n",
    "    dff['M_q'] = pd.qcut(dff['M'],q=q_list,labels=labels)\n",
    "    return dff\n",
    "def SS(df):\n",
    "    scaler = StandardScaler()\n",
    "    scaled_data = scaler.fit_transform(df)\n",
    "    scaled_df = pd.DataFrame(scaled_data, columns=df.columns)\n",
    "    return scaled_df"
   ]
  },
  {
   "cell_type": "code",
   "execution_count": 4,
   "metadata": {},
   "outputs": [],
   "source": [
    "snaps = ['140','132','096']"
   ]
  },
  {
   "cell_type": "code",
   "execution_count": 5,
   "metadata": {},
   "outputs": [],
   "source": [
    "boxno = 50"
   ]
  },
  {
   "cell_type": "code",
   "execution_count": 6,
   "metadata": {},
   "outputs": [],
   "source": [
    "df_140 = Analysis(boxno,'140','').get_dataframe()\n"
   ]
  },
  {
   "cell_type": "code",
   "execution_count": 7,
   "metadata": {},
   "outputs": [],
   "source": [
    "df_140_m = data_manupulation(df_140)"
   ]
  },
  {
   "cell_type": "code",
   "execution_count": 8,
   "metadata": {},
   "outputs": [],
   "source": [
    "df_140_ms = SS(df_140_m)"
   ]
  },
  {
   "cell_type": "code",
   "execution_count": 9,
   "metadata": {},
   "outputs": [
    {
     "data": {
      "text/html": [
       "<div>\n",
       "<style scoped>\n",
       "    .dataframe tbody tr th:only-of-type {\n",
       "        vertical-align: middle;\n",
       "    }\n",
       "\n",
       "    .dataframe tbody tr th {\n",
       "        vertical-align: top;\n",
       "    }\n",
       "\n",
       "    .dataframe thead th {\n",
       "        text-align: right;\n",
       "    }\n",
       "</style>\n",
       "<table border=\"1\" class=\"dataframe\">\n",
       "  <thead>\n",
       "    <tr style=\"text-align: right;\">\n",
       "      <th></th>\n",
       "      <th>Yksz</th>\n",
       "      <th>M</th>\n",
       "      <th>gas_frac</th>\n",
       "      <th>Vz</th>\n",
       "      <th>M_q</th>\n",
       "    </tr>\n",
       "  </thead>\n",
       "  <tbody>\n",
       "    <tr>\n",
       "      <th>0</th>\n",
       "      <td>3.785629</td>\n",
       "      <td>5.970635</td>\n",
       "      <td>5.078922</td>\n",
       "      <td>-1.390367</td>\n",
       "      <td>1.341718</td>\n",
       "    </tr>\n",
       "    <tr>\n",
       "      <th>1</th>\n",
       "      <td>3.579983</td>\n",
       "      <td>5.259511</td>\n",
       "      <td>4.574609</td>\n",
       "      <td>-1.816945</td>\n",
       "      <td>1.341718</td>\n",
       "    </tr>\n",
       "    <tr>\n",
       "      <th>2</th>\n",
       "      <td>3.265185</td>\n",
       "      <td>5.594615</td>\n",
       "      <td>4.972068</td>\n",
       "      <td>-0.155893</td>\n",
       "      <td>1.341718</td>\n",
       "    </tr>\n",
       "    <tr>\n",
       "      <th>3</th>\n",
       "      <td>3.050523</td>\n",
       "      <td>3.487114</td>\n",
       "      <td>4.303074</td>\n",
       "      <td>0.253080</td>\n",
       "      <td>1.341718</td>\n",
       "    </tr>\n",
       "    <tr>\n",
       "      <th>4</th>\n",
       "      <td>3.012627</td>\n",
       "      <td>5.325033</td>\n",
       "      <td>4.433476</td>\n",
       "      <td>-1.325993</td>\n",
       "      <td>1.341718</td>\n",
       "    </tr>\n",
       "    <tr>\n",
       "      <th>...</th>\n",
       "      <td>...</td>\n",
       "      <td>...</td>\n",
       "      <td>...</td>\n",
       "      <td>...</td>\n",
       "      <td>...</td>\n",
       "    </tr>\n",
       "    <tr>\n",
       "      <th>10488</th>\n",
       "      <td>-0.772869</td>\n",
       "      <td>-1.113360</td>\n",
       "      <td>1.138365</td>\n",
       "      <td>-0.593155</td>\n",
       "      <td>-1.341462</td>\n",
       "    </tr>\n",
       "    <tr>\n",
       "      <th>10489</th>\n",
       "      <td>-0.103052</td>\n",
       "      <td>-1.077766</td>\n",
       "      <td>0.543450</td>\n",
       "      <td>-0.845292</td>\n",
       "      <td>-1.341462</td>\n",
       "    </tr>\n",
       "    <tr>\n",
       "      <th>10490</th>\n",
       "      <td>-0.532824</td>\n",
       "      <td>-1.091878</td>\n",
       "      <td>-0.399874</td>\n",
       "      <td>0.719765</td>\n",
       "      <td>-1.341462</td>\n",
       "    </tr>\n",
       "    <tr>\n",
       "      <th>10491</th>\n",
       "      <td>0.731956</td>\n",
       "      <td>-1.026046</td>\n",
       "      <td>1.654220</td>\n",
       "      <td>1.507760</td>\n",
       "      <td>-1.341462</td>\n",
       "    </tr>\n",
       "    <tr>\n",
       "      <th>10492</th>\n",
       "      <td>-0.072394</td>\n",
       "      <td>-1.039198</td>\n",
       "      <td>-0.182831</td>\n",
       "      <td>-1.189253</td>\n",
       "      <td>-1.341462</td>\n",
       "    </tr>\n",
       "  </tbody>\n",
       "</table>\n",
       "<p>10493 rows × 5 columns</p>\n",
       "</div>"
      ],
      "text/plain": [
       "           Yksz         M  gas_frac        Vz       M_q\n",
       "0      3.785629  5.970635  5.078922 -1.390367  1.341718\n",
       "1      3.579983  5.259511  4.574609 -1.816945  1.341718\n",
       "2      3.265185  5.594615  4.972068 -0.155893  1.341718\n",
       "3      3.050523  3.487114  4.303074  0.253080  1.341718\n",
       "4      3.012627  5.325033  4.433476 -1.325993  1.341718\n",
       "...         ...       ...       ...       ...       ...\n",
       "10488 -0.772869 -1.113360  1.138365 -0.593155 -1.341462\n",
       "10489 -0.103052 -1.077766  0.543450 -0.845292 -1.341462\n",
       "10490 -0.532824 -1.091878 -0.399874  0.719765 -1.341462\n",
       "10491  0.731956 -1.026046  1.654220  1.507760 -1.341462\n",
       "10492 -0.072394 -1.039198 -0.182831 -1.189253 -1.341462\n",
       "\n",
       "[10493 rows x 5 columns]"
      ]
     },
     "execution_count": 9,
     "metadata": {},
     "output_type": "execute_result"
    }
   ],
   "source": [
    "df_140_ms"
   ]
  },
  {
   "cell_type": "code",
   "execution_count": 14,
   "metadata": {},
   "outputs": [],
   "source": [
    "X = df_140_ms[['gas_frac','Vz']]\n",
    "y = df_140_ms['Yksz'] - df_140_ms['M']"
   ]
  },
  {
   "cell_type": "code",
   "execution_count": 15,
   "metadata": {},
   "outputs": [],
   "source": [
    "X_train, X_test, y_train, y_test = train_test_split(X, y, train_size=0.5,stratify=df_140_m.M_q, random_state=42)"
   ]
  },
  {
   "cell_type": "code",
   "execution_count": 12,
   "metadata": {},
   "outputs": [],
   "source": [
    "model = PySRRegressor(\n",
    "    niterations=10,  \n",
    "    binary_operators=[\"+\", \"*\", \"/\", \"^\"],\n",
    "    unary_operators=[\n",
    "        \"exp\",\n",
    "        \"abs\",\n",
    "        \"sqrt\",\n",
    "    ],\n",
    "    procs=4,\n",
    "    maxdepth=10,\n",
    "    progress=True,\n",
    ")"
   ]
  },
  {
   "cell_type": "code",
   "execution_count": 68,
   "metadata": {},
   "outputs": [
    {
     "name": "stdout",
     "output_type": "stream",
     "text": [
      "Started!\n",
      "\n",
      "Cycles per second: 5.050e+03\n",
      "Head worker occupation: 2.9%\n",
      "Progress: 14 / 150 total iterations (9.333%)\n",
      "==============================\n",
      "Hall of Fame:\n",
      "-----------------------------------------\n",
      "Complexity  Loss       Score     Equation\n",
      "1           7.917e-01  -1.000e-10  0.016088057\n",
      "3           7.530e-01  2.508e-02  (-0.18235476 * gas_frac)\n",
      "4           5.778e-01  2.649e-01  (abs(Vz) + -0.83143383)\n",
      "5           5.585e-01  3.399e-02  (sqrt(abs(Vz)) + -0.83143383)\n",
      "7           5.389e-01  1.783e-02  ((sqrt(abs(Vz)) + -0.83143383) * 1.2623222)\n",
      "9           5.358e-01  2.866e-03  (((sqrt(abs(Vz)) + -0.83143383) * 1.2164766) * 1.2164766)\n",
      "11          5.230e-01  1.207e-02  (abs(Vz / exp(abs(exp(gas_frac)) * 0.2309557)) + -0.5612451)\n",
      "15          5.185e-01  2.167e-03  (abs((abs(Vz) * -0.89899564) / sqrt(exp(abs(exp(gas_frac)) * 0.2309557))) + -0.5612451)\n",
      "18          5.160e-01  1.617e-03  (((abs(Vz / (0.7322526 + 0.91877514)) + (-0.1661067 * 1.5456293)) + (-0.1661067 * (0.91877514 + gas_frac))) / 0.8346921)\n",
      "19          5.090e-01  1.372e-02  (((abs(Vz / (0.7322526 + 0.91877514)) + (-0.1661067 * 1.5456293)) + (-0.1661067 * abs(0.91877514 + gas_frac))) / 0.8346921)\n",
      "20          5.076e-01  2.748e-03  (((abs(Vz / (0.7903968 + abs(0.91877514))) + (-0.1661067 * 1.5456293)) + (-0.1661067 * (abs(gas_frac) + gas_frac))) / 0.8346921)\n",
      "\n",
      "==============================\n",
      "Press 'q' and then <enter> to stop execution early.\n",
      "\n",
      "Cycles per second: 8.030e+03\n",
      "Head worker occupation: 2.2%\n",
      "Progress: 45 / 150 total iterations (30.000%)\n",
      "==============================\n",
      "Hall of Fame:\n",
      "-----------------------------------------\n",
      "Complexity  Loss       Score     Equation\n",
      "1           7.917e-01  -1.000e-10  0.016088057\n",
      "3           7.530e-01  2.508e-02  (-0.18235476 * gas_frac)\n",
      "4           5.741e-01  2.713e-01  (abs(Vz) + -0.7263547)\n",
      "5           5.585e-01  2.755e-02  (sqrt(abs(Vz)) + -0.83143383)\n",
      "6           5.456e-01  2.337e-02  ((abs(Vz) ^ 0.62811065) + -0.83143383)\n",
      "7           5.389e-01  1.229e-02  ((sqrt(abs(Vz)) + -0.83143383) * 1.2623222)\n",
      "9           5.358e-01  2.866e-03  (((sqrt(abs(Vz)) + -0.83143383) * 1.2164766) * 1.2164766)\n",
      "11          5.230e-01  1.207e-02  (abs(Vz / exp(abs(exp(gas_frac)) * 0.2309557)) + -0.5612451)\n",
      "15          5.152e-01  3.783e-03  ((abs(Vz / exp(abs(abs(exp(gas_frac)) * abs(0.21591528)))) ^ 0.68342364) + -0.5803514)\n",
      "18          5.103e-01  3.141e-03  ((abs(Vz / (0.7903968 + abs(0.8346921))) + (-0.1661067 * 1.9232063)) + (-0.1661067 * (abs(gas_frac) + gas_frac)))\n",
      "19          5.019e-01  1.671e-02  (((abs(Vz / (0.7903968 + 0.8346921)) + (-0.1661067 * 1.9232063)) + (-0.1661067 * (abs(gas_frac) + gas_frac))) / 0.8346921)\n",
      "20          5.019e-01  2.527e-05  (((abs(Vz / (0.7903968 + abs(0.8346921))) + (-0.1661067 * 1.9232063)) + (-0.1661067 * (abs(gas_frac) + gas_frac))) / 0.8298992)\n",
      "\n",
      "==============================\n",
      "Press 'q' and then <enter> to stop execution early.\n",
      "\n",
      "Cycles per second: 7.550e+03\n",
      "Head worker occupation: 1.9%\n",
      "Progress: 64 / 150 total iterations (42.667%)\n",
      "==============================\n",
      "Hall of Fame:\n",
      "-----------------------------------------\n",
      "Complexity  Loss       Score     Equation\n",
      "1           7.917e-01  -1.000e-10  0.016088057\n",
      "3           7.527e-01  2.525e-02  (gas_frac * -0.19810383)\n",
      "4           5.728e-01  2.731e-01  (abs(Vz) + -0.76125395)\n",
      "5           5.569e-01  2.829e-02  (sqrt(abs(Vz)) + -0.79436094)\n",
      "6           5.391e-01  3.249e-02  ((abs(Vz) ^ 0.7185264) + -0.7647494)\n",
      "7           5.389e-01  3.052e-04  ((sqrt(abs(Vz)) + -0.83143383) * 1.2623222)\n",
      "8           5.355e-01  6.352e-03  ((abs(sqrt(abs(Vz))) + -0.83143383) * 1.4384382)\n",
      "9           5.198e-01  2.980e-02  ((sqrt(abs(Vz)) + -0.83143383) + (gas_frac * -0.14833386))\n",
      "14          5.159e-01  1.511e-03  ((abs(Vz / exp(exp(gas_frac + -0.001543172) * 0.16424692)) ^ 0.6640207) + -0.5803514)\n",
      "15          5.047e-01  2.194e-02  ((abs(abs(Vz) / exp(exp(gas_frac + -0.012660049) * 0.11282908)) ^ 0.7870925) + -0.6630553)\n",
      "19          5.019e-01  1.375e-03  (((abs(Vz / (0.7903968 + 0.8346921)) + (-0.1661067 * 1.9232063)) + (-0.1661067 * (abs(gas_frac) + gas_frac))) / 0.8346921)\n",
      "20          5.019e-01  2.527e-05  (((abs(Vz / (0.7903968 + abs(0.8346921))) + (-0.1661067 * 1.9232063)) + (-0.1661067 * (abs(gas_frac) + gas_frac))) / 0.8298992)\n",
      "\n",
      "==============================\n",
      "Press 'q' and then <enter> to stop execution early.\n",
      "\n",
      "Cycles per second: 6.740e+03\n",
      "Head worker occupation: 1.4%\n",
      "Progress: 76 / 150 total iterations (50.667%)\n",
      "==============================\n",
      "Hall of Fame:\n",
      "-----------------------------------------\n",
      "Complexity  Loss       Score     Equation\n",
      "1           7.917e-01  -1.000e-10  0.016088057\n",
      "3           7.527e-01  2.525e-02  (gas_frac * -0.19810383)\n",
      "4           5.728e-01  2.731e-01  (abs(Vz) + -0.76125395)\n",
      "5           5.569e-01  2.830e-02  (sqrt(abs(Vz)) + -0.79137576)\n",
      "6           5.391e-01  3.248e-02  ((abs(Vz) ^ 0.7185264) + -0.7647494)\n",
      "7           5.389e-01  3.052e-04  ((sqrt(abs(Vz)) + -0.83143383) * 1.2623222)\n",
      "8           5.355e-01  6.352e-03  ((abs(sqrt(abs(Vz))) + -0.83143383) * 1.4384382)\n",
      "9           5.198e-01  2.980e-02  ((sqrt(abs(Vz)) + -0.83143383) + (gas_frac * -0.14833386))\n",
      "12          4.966e-01  1.519e-02  (((abs(Vz) / 1.2752353) + (sqrt(exp(gas_frac)) * -0.28431928)) + -0.26256117)\n",
      "\n",
      "==============================\n",
      "Press 'q' and then <enter> to stop execution early.\n",
      "\n",
      "Cycles per second: 6.460e+03\n",
      "Head worker occupation: 1.2%\n",
      "Progress: 91 / 150 total iterations (60.667%)\n",
      "==============================\n",
      "Hall of Fame:\n",
      "-----------------------------------------\n",
      "Complexity  Loss       Score     Equation\n",
      "1           7.917e-01  -1.000e-10  0.016088057\n",
      "3           7.527e-01  2.525e-02  (gas_frac * -0.19810383)\n",
      "4           5.728e-01  2.731e-01  (abs(Vz) + -0.76125395)\n",
      "5           5.569e-01  2.830e-02  (sqrt(abs(Vz)) + -0.79137576)\n",
      "6           5.391e-01  3.248e-02  ((abs(Vz) ^ 0.7185264) + -0.7647494)\n",
      "7           5.355e-01  6.657e-03  ((sqrt(abs(Vz)) + -0.83143383) * 1.4384382)\n",
      "9           5.198e-01  1.490e-02  ((sqrt(abs(Vz)) + -0.83143383) + (gas_frac * -0.14833386))\n",
      "11          5.117e-01  7.812e-03  ((abs(Vz / exp(0.3002458 * gas_frac)) ^ 0.6640207) + -0.7450802)\n",
      "12          4.966e-01  2.995e-02  (((abs(Vz) / 1.2752353) + (sqrt(exp(gas_frac)) * -0.28431928)) + -0.26256117)\n",
      "\n",
      "==============================\n",
      "Press 'q' and then <enter> to stop execution early.\n",
      "\n",
      "Cycles per second: 6.120e+03\n",
      "Head worker occupation: 1.1%\n",
      "Progress: 104 / 150 total iterations (69.333%)\n",
      "==============================\n",
      "Hall of Fame:\n",
      "-----------------------------------------\n",
      "Complexity  Loss       Score     Equation\n",
      "1           7.917e-01  -1.000e-10  0.016088057\n",
      "3           7.527e-01  2.525e-02  (gas_frac * -0.19810383)\n",
      "4           5.728e-01  2.731e-01  (abs(Vz) + -0.76125395)\n",
      "5           5.569e-01  2.830e-02  (sqrt(abs(Vz)) + -0.79137576)\n",
      "6           5.391e-01  3.248e-02  ((abs(Vz) ^ 0.7185264) + -0.7647494)\n",
      "7           5.330e-01  1.138e-02  (sqrt(abs(Vz / 0.48891267)) + -1.1438287)\n",
      "8           5.329e-01  5.961e-05  (sqrt(abs(abs(Vz / 0.48469248))) + -1.1438287)\n",
      "9           5.198e-01  2.501e-02  ((sqrt(abs(Vz)) + -0.83143383) + (gas_frac * -0.14833386))\n",
      "11          5.117e-01  7.812e-03  ((abs(Vz / exp(0.3002458 * gas_frac)) ^ 0.6640207) + -0.7450802)\n",
      "12          4.966e-01  2.995e-02  (((abs(Vz) / 1.2752353) + (sqrt(exp(gas_frac)) * -0.28431928)) + -0.26256117)\n",
      "\n",
      "==============================\n",
      "Press 'q' and then <enter> to stop execution early.\n",
      "\n",
      "Cycles per second: 6.000e+03\n",
      "Head worker occupation: 1.0%\n",
      "Progress: 121 / 150 total iterations (80.667%)\n",
      "==============================\n",
      "Hall of Fame:\n",
      "-----------------------------------------\n",
      "Complexity  Loss       Score     Equation\n",
      "1           7.917e-01  -1.000e-10  0.016088057\n",
      "3           7.527e-01  2.525e-02  (gas_frac * -0.19810383)\n",
      "4           5.728e-01  2.731e-01  (abs(Vz) + -0.76125395)\n",
      "5           5.569e-01  2.830e-02  (sqrt(abs(Vz)) + -0.79137576)\n",
      "6           5.391e-01  3.248e-02  ((abs(Vz) ^ 0.7185264) + -0.7647494)\n",
      "7           5.330e-01  1.138e-02  (sqrt(abs(Vz / 0.48891267)) + -1.1438287)\n",
      "8           5.329e-01  5.961e-05  (sqrt(abs(abs(Vz / 0.48469248))) + -1.1438287)\n",
      "9           5.198e-01  2.501e-02  ((sqrt(abs(Vz)) + -0.83143383) + (gas_frac * -0.14833386))\n",
      "11          5.117e-01  7.812e-03  ((abs(Vz / exp(0.3002458 * gas_frac)) ^ 0.6640207) + -0.7450802)\n",
      "12          4.966e-01  2.995e-02  (((abs(Vz) / 1.2752353) + (sqrt(exp(gas_frac)) * -0.28431928)) + -0.26256117)\n",
      "\n",
      "==============================\n",
      "Press 'q' and then <enter> to stop execution early.\n"
     ]
    },
    {
     "data": {
      "text/html": [
       "<style>#sk-container-id-5 {color: black;}#sk-container-id-5 pre{padding: 0;}#sk-container-id-5 div.sk-toggleable {background-color: white;}#sk-container-id-5 label.sk-toggleable__label {cursor: pointer;display: block;width: 100%;margin-bottom: 0;padding: 0.3em;box-sizing: border-box;text-align: center;}#sk-container-id-5 label.sk-toggleable__label-arrow:before {content: \"▸\";float: left;margin-right: 0.25em;color: #696969;}#sk-container-id-5 label.sk-toggleable__label-arrow:hover:before {color: black;}#sk-container-id-5 div.sk-estimator:hover label.sk-toggleable__label-arrow:before {color: black;}#sk-container-id-5 div.sk-toggleable__content {max-height: 0;max-width: 0;overflow: hidden;text-align: left;background-color: #f0f8ff;}#sk-container-id-5 div.sk-toggleable__content pre {margin: 0.2em;color: black;border-radius: 0.25em;background-color: #f0f8ff;}#sk-container-id-5 input.sk-toggleable__control:checked~div.sk-toggleable__content {max-height: 200px;max-width: 100%;overflow: auto;}#sk-container-id-5 input.sk-toggleable__control:checked~label.sk-toggleable__label-arrow:before {content: \"▾\";}#sk-container-id-5 div.sk-estimator input.sk-toggleable__control:checked~label.sk-toggleable__label {background-color: #d4ebff;}#sk-container-id-5 div.sk-label input.sk-toggleable__control:checked~label.sk-toggleable__label {background-color: #d4ebff;}#sk-container-id-5 input.sk-hidden--visually {border: 0;clip: rect(1px 1px 1px 1px);clip: rect(1px, 1px, 1px, 1px);height: 1px;margin: -1px;overflow: hidden;padding: 0;position: absolute;width: 1px;}#sk-container-id-5 div.sk-estimator {font-family: monospace;background-color: #f0f8ff;border: 1px dotted black;border-radius: 0.25em;box-sizing: border-box;margin-bottom: 0.5em;}#sk-container-id-5 div.sk-estimator:hover {background-color: #d4ebff;}#sk-container-id-5 div.sk-parallel-item::after {content: \"\";width: 100%;border-bottom: 1px solid gray;flex-grow: 1;}#sk-container-id-5 div.sk-label:hover label.sk-toggleable__label {background-color: #d4ebff;}#sk-container-id-5 div.sk-serial::before {content: \"\";position: absolute;border-left: 1px solid gray;box-sizing: border-box;top: 0;bottom: 0;left: 50%;z-index: 0;}#sk-container-id-5 div.sk-serial {display: flex;flex-direction: column;align-items: center;background-color: white;padding-right: 0.2em;padding-left: 0.2em;position: relative;}#sk-container-id-5 div.sk-item {position: relative;z-index: 1;}#sk-container-id-5 div.sk-parallel {display: flex;align-items: stretch;justify-content: center;background-color: white;position: relative;}#sk-container-id-5 div.sk-item::before, #sk-container-id-5 div.sk-parallel-item::before {content: \"\";position: absolute;border-left: 1px solid gray;box-sizing: border-box;top: 0;bottom: 0;left: 50%;z-index: -1;}#sk-container-id-5 div.sk-parallel-item {display: flex;flex-direction: column;z-index: 1;position: relative;background-color: white;}#sk-container-id-5 div.sk-parallel-item:first-child::after {align-self: flex-end;width: 50%;}#sk-container-id-5 div.sk-parallel-item:last-child::after {align-self: flex-start;width: 50%;}#sk-container-id-5 div.sk-parallel-item:only-child::after {width: 0;}#sk-container-id-5 div.sk-dashed-wrapped {border: 1px dashed gray;margin: 0 0.4em 0.5em 0.4em;box-sizing: border-box;padding-bottom: 0.4em;background-color: white;}#sk-container-id-5 div.sk-label label {font-family: monospace;font-weight: bold;display: inline-block;line-height: 1.2em;}#sk-container-id-5 div.sk-label-container {text-align: center;}#sk-container-id-5 div.sk-container {/* jupyter's `normalize.less` sets `[hidden] { display: none; }` but bootstrap.min.css set `[hidden] { display: none !important; }` so we also need the `!important` here to be able to override the default hidden behavior on the sphinx rendered scikit-learn.org. See: https://github.com/scikit-learn/scikit-learn/issues/21755 */display: inline-block !important;position: relative;}#sk-container-id-5 div.sk-text-repr-fallback {display: none;}</style><div id=\"sk-container-id-5\" class=\"sk-top-container\"><div class=\"sk-text-repr-fallback\"><pre>PySRRegressor.equations_ = [\n",
       "\t   pick     score                                           equation  \\\n",
       "\t0        0.000000                                        0.016088057   \n",
       "\t1        0.025247                           (gas_frac * -0.19810383)   \n",
       "\t2  &gt;&gt;&gt;&gt;  0.273097                            (abs(Vz) + -0.76125395)   \n",
       "\t3        0.028302                      (sqrt(abs(Vz)) + -0.79137576)   \n",
       "\t4        0.032476               ((abs(Vz) ^ 0.7185264) + -0.7647494)   \n",
       "\t5        0.011442        ((sqrt(abs(Vz)) + -0.79628265) * 1.4369155)   \n",
       "\t6        0.012505  ((sqrt(abs(Vz)) + -0.83143383) + (gas_frac * -...   \n",
       "\t7        0.002557  ((sqrt(abs(abs(Vz))) + -0.8092674) + (gas_frac...   \n",
       "\t8        0.013067  ((abs(Vz / exp(0.3002458 * gas_frac)) ^ 0.6640...   \n",
       "\t9        0.029946  (((abs(Vz) / 1.2752353) + (sqrt(exp(gas_frac))...   \n",
       "\t\n",
       "\t       loss  complexity  \n",
       "\t0  0.791711           1  \n",
       "\t1  0.752727           3  \n",
       "\t2  0.572839           4  \n",
       "\t3  0.556855           5  \n",
       "\t4  0.539061           6  \n",
       "\t5  0.532928           7  \n",
       "\t6  0.519764           9  \n",
       "\t7  0.518437          10  \n",
       "\t8  0.511706          11  \n",
       "\t9  0.496610          12  \n",
       "]</pre><b>In a Jupyter environment, please rerun this cell to show the HTML representation or trust the notebook. <br />On GitHub, the HTML representation is unable to render, please try loading this page with nbviewer.org.</b></div><div class=\"sk-container\" hidden><div class=\"sk-item\"><div class=\"sk-estimator sk-toggleable\"><input class=\"sk-toggleable__control sk-hidden--visually\" id=\"sk-estimator-id-5\" type=\"checkbox\" checked><label for=\"sk-estimator-id-5\" class=\"sk-toggleable__label sk-toggleable__label-arrow\">PySRRegressor</label><div class=\"sk-toggleable__content\"><pre>PySRRegressor.equations_ = [\n",
       "\t   pick     score                                           equation  \\\n",
       "\t0        0.000000                                        0.016088057   \n",
       "\t1        0.025247                           (gas_frac * -0.19810383)   \n",
       "\t2  &gt;&gt;&gt;&gt;  0.273097                            (abs(Vz) + -0.76125395)   \n",
       "\t3        0.028302                      (sqrt(abs(Vz)) + -0.79137576)   \n",
       "\t4        0.032476               ((abs(Vz) ^ 0.7185264) + -0.7647494)   \n",
       "\t5        0.011442        ((sqrt(abs(Vz)) + -0.79628265) * 1.4369155)   \n",
       "\t6        0.012505  ((sqrt(abs(Vz)) + -0.83143383) + (gas_frac * -...   \n",
       "\t7        0.002557  ((sqrt(abs(abs(Vz))) + -0.8092674) + (gas_frac...   \n",
       "\t8        0.013067  ((abs(Vz / exp(0.3002458 * gas_frac)) ^ 0.6640...   \n",
       "\t9        0.029946  (((abs(Vz) / 1.2752353) + (sqrt(exp(gas_frac))...   \n",
       "\t\n",
       "\t       loss  complexity  \n",
       "\t0  0.791711           1  \n",
       "\t1  0.752727           3  \n",
       "\t2  0.572839           4  \n",
       "\t3  0.556855           5  \n",
       "\t4  0.539061           6  \n",
       "\t5  0.532928           7  \n",
       "\t6  0.519764           9  \n",
       "\t7  0.518437          10  \n",
       "\t8  0.511706          11  \n",
       "\t9  0.496610          12  \n",
       "]</pre></div></div></div></div></div>"
      ],
      "text/plain": [
       "PySRRegressor.equations_ = [\n",
       "\t   pick     score                                           equation  \\\n",
       "\t0        0.000000                                        0.016088057   \n",
       "\t1        0.025247                           (gas_frac * -0.19810383)   \n",
       "\t2  >>>>  0.273097                            (abs(Vz) + -0.76125395)   \n",
       "\t3        0.028302                      (sqrt(abs(Vz)) + -0.79137576)   \n",
       "\t4        0.032476               ((abs(Vz) ^ 0.7185264) + -0.7647494)   \n",
       "\t5        0.011442        ((sqrt(abs(Vz)) + -0.79628265) * 1.4369155)   \n",
       "\t6        0.012505  ((sqrt(abs(Vz)) + -0.83143383) + (gas_frac * -...   \n",
       "\t7        0.002557  ((sqrt(abs(abs(Vz))) + -0.8092674) + (gas_frac...   \n",
       "\t8        0.013067  ((abs(Vz / exp(0.3002458 * gas_frac)) ^ 0.6640...   \n",
       "\t9        0.029946  (((abs(Vz) / 1.2752353) + (sqrt(exp(gas_frac))...   \n",
       "\t\n",
       "\t       loss  complexity  \n",
       "\t0  0.791711           1  \n",
       "\t1  0.752727           3  \n",
       "\t2  0.572839           4  \n",
       "\t3  0.556855           5  \n",
       "\t4  0.539061           6  \n",
       "\t5  0.532928           7  \n",
       "\t6  0.519764           9  \n",
       "\t7  0.518437          10  \n",
       "\t8  0.511706          11  \n",
       "\t9  0.496610          12  \n",
       "]"
      ]
     },
     "execution_count": 68,
     "metadata": {},
     "output_type": "execute_result"
    }
   ],
   "source": [
    "model.fit(X_train, y_train)"
   ]
  },
  {
   "cell_type": "code",
   "execution_count": 91,
   "metadata": {},
   "outputs": [
    {
     "name": "stdout",
     "output_type": "stream",
     "text": [
      "0.0160880570000000\n",
      "-0.19810383*gas_frac\n",
      "Abs(Vz) - 0.76125395\n",
      "sqrt(Abs(Vz)) - 0.79137576\n",
      "Abs(Vz)**0.7185264 - 0.7647494\n",
      "1.4369155*sqrt(Abs(Vz)) - 1.14419088216607\n",
      "-0.14833386*gas_frac + sqrt(Abs(Vz)) - 0.83143383\n",
      "-0.14833386*gas_frac + sqrt(Abs(Vz)) - 0.8092674\n",
      "-0.7450802 + exp(-0.19936942628806*re(gas_frac))*Abs(Vz)**0.6640207\n"
     ]
    }
   ],
   "source": [
    "for i in range(9):\n",
    "    print(model.sympy(i))"
   ]
  },
  {
   "cell_type": "code",
   "execution_count": 85,
   "metadata": {},
   "outputs": [
    {
     "data": {
      "text/latex": [
       "$\\displaystyle \\left|{Vz}\\right| - 0.76125395$"
      ],
      "text/plain": [
       "Abs(Vz) - 0.76125395"
      ]
     },
     "execution_count": 85,
     "metadata": {},
     "output_type": "execute_result"
    }
   ],
   "source": [
    "model.sympy()"
   ]
  },
  {
   "cell_type": "code",
   "execution_count": 60,
   "metadata": {},
   "outputs": [
    {
     "data": {
      "text/plain": [
       "['29.9', '30.8', '31.6', '32.4', '33.3', '34.1', '34.9']"
      ]
     },
     "execution_count": 60,
     "metadata": {},
     "output_type": "execute_result"
    }
   ],
   "source": []
  },
  {
   "cell_type": "code",
   "execution_count": 66,
   "metadata": {},
   "outputs": [
    {
     "data": {
      "image/png": "[encoded data removed]",
      "text/plain": [
       "<Figure size 640x480 with 1 Axes>"
      ]
     },
     "metadata": {},
     "output_type": "display_data"
    }
   ],
   "source": [
    "plt.scatter(df_140_ms.M,df_140_ms.Yksz,s=2,label='Magneticum data')\n",
    "plt.scatter(df_140_ms.M,0.8*df_140_ms.M - 0.14*df_140_ms.gas_frac + np.sqrt(df_140_ms.Vz)  - 1, s=2,label='Symoblic regression')\n",
    "plt.plot(df_140_ms.M,df_140_ms.M*.7 -.3,c='k',label='Analytical relation')\n",
    "plt.ylabel('$Y_{Ksz} [Mpc^2]$',fontsize=15)\n",
    "plt.xlabel('$M_{500c} [M_\\odot]$',fontsize=15)\n",
    "plt.xticks(np.linspace(-1,6,7),[f\"{i:.1f}\" for i in np.linspace(min(df_140_m.M),max(df_140_m.M),7)],fontsize=10)\n",
    "plt.yticks(np.linspace(-8,4,7),[f\"{i:.1f}\" for i in np.linspace(min(df_140_m.Yksz),max(df_140_m.Yksz),7)],fontsize=10)\n",
    "plt.legend(loc='lower right',fontsize=15)\n",
    "plt.savefig('test5.pdf',dpi=300,bbox_inches='tight')\n",
    "#plt.scatter(df_140_ms.M,(df_140_ms.M - 2*np.abs(df_140_ms.Vz) )"
   ]
  },
  {
   "cell_type": "code",
   "execution_count": 55,
   "metadata": {},
   "outputs": [
    {
     "data": {
      "text/plain": [
       "29.93931559360903"
      ]
     },
     "execution_count": 55,
     "metadata": {},
     "output_type": "execute_result"
    }
   ],
   "source": [
    "min(df_140_m.M)"
   ]
  },
  {
   "cell_type": "code",
   "execution_count": 63,
   "metadata": {},
   "outputs": [
    {
     "data": {
      "text/plain": [
       "0       -11.521859\n",
       "1       -11.813518\n",
       "2       -12.259982\n",
       "3       -12.564427\n",
       "4       -12.618172\n",
       "           ...    \n",
       "10488   -17.986969\n",
       "10489   -17.036998\n",
       "10490   -17.646525\n",
       "10491   -15.852745\n",
       "10492   -16.993518\n",
       "Name: Yksz, Length: 10493, dtype: float64"
      ]
     },
     "execution_count": 63,
     "metadata": {},
     "output_type": "execute_result"
    }
   ],
   "source": [
    "df_140_m.Yksz"
   ]
  },
  {
   "cell_type": "code",
   "execution_count": null,
   "metadata": {},
   "outputs": [],
   "source": []
  }
 ],
 "metadata": {
  "kernelspec": {
   "display_name": "base",
   "language": "python",
   "name": "python3"
  },
  "language_info": {
   "codemirror_mode": {
    "name": "ipython",
    "version": 3
   },
   "file_extension": ".py",
   "mimetype": "text/x-python",
   "name": "python",
   "nbconvert_exporter": "python",
   "pygments_lexer": "ipython3",
   "version": "3.8.8"
  },
  "orig_nbformat": 4
 },
 "nbformat": 4,
 "nbformat_minor": 2
}
