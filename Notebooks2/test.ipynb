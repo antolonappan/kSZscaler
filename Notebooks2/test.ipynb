{
 "cells": [
  {
   "cell_type": "code",
   "execution_count": 30,
   "metadata": {},
   "outputs": [],
   "source": [
    "import sys \n",
    "import matplotlib.pyplot as plt\n",
    "import numpy as np\n",
    "sys.path.append('../')\n",
    "import warnings\n",
    "import seaborn as sns\n",
    "# To suppress all warnings\n",
    "warnings.filterwarnings(\"ignore\")\n",
    "from sklearn.metrics import  r2_score as r2\n",
    "from tqdm import tqdm\n",
    "import pandas as pd\n",
    "from sklearn.metrics import mean_squared_error,r2_score\n",
    "from sklearn.model_selection import train_test_split\n",
    "from sklearn.linear_model import LinearRegression\n",
    "from sklearn.ensemble import RandomForestRegressor\n",
    "from sklearn.svm import SVR\n",
    "from sklearn.model_selection import GridSearchCV"
   ]
  },
  {
   "cell_type": "code",
   "execution_count": 2,
   "metadata": {},
   "outputs": [],
   "source": [
    "%load_ext autoreload\n",
    "%autoreload 2\n",
    "from database import Magneticum\n",
    "from relation import Scaling\n",
    "from relation import Distribution\n",
    "from relation import Analysis\n",
    "from relation import RandomForest"
   ]
  },
  {
   "cell_type": "code",
   "execution_count": 11,
   "metadata": {},
   "outputs": [],
   "source": [
    "def data_manupulation(df):\n",
    "    dff = df.copy()\n",
    "    dff = dff[['Yksz','Vz','Mstar', 'M','Vlos']]\n",
    "    dff.Vz = dff.Vz.apply(lambda x: x/1e5)\n",
    "    dff.Mstar = dff.Mstar.apply(lambda x: np.log(x))\n",
    "    q_list = [0,0.25,0.5,0.75,1]\n",
    "    labels = [1,2,3,4]\n",
    "    dff['M_q'] = pd.qcut(dff['M'],q=q_list,labels=labels)\n",
    "    return dff"
   ]
  },
  {
   "cell_type": "code",
   "execution_count": 14,
   "metadata": {},
   "outputs": [],
   "source": [
    "snaps = ['140','132','096']"
   ]
  },
  {
   "cell_type": "code",
   "execution_count": 6,
   "metadata": {},
   "outputs": [],
   "source": [
    "boxno = 50"
   ]
  },
  {
   "cell_type": "code",
   "execution_count": 7,
   "metadata": {},
   "outputs": [],
   "source": [
    "df_140 = Analysis(boxno,'140','').get_dataframe()\n",
    "df_132 = Analysis(boxno,'132','').get_dataframe()\n",
    "df_096 = Analysis(boxno,'096','').get_dataframe()"
   ]
  },
  {
   "cell_type": "code",
   "execution_count": 12,
   "metadata": {},
   "outputs": [],
   "source": [
    "df_140_m = data_manupulation(df_140)\n",
    "df_132_m = data_manupulation(df_132)\n",
    "df_096_m = data_manupulation(df_096)"
   ]
  },
  {
   "cell_type": "code",
   "execution_count": 26,
   "metadata": {},
   "outputs": [
    {
     "data": {
      "text/plain": [
       "<matplotlib.legend.Legend at 0x7fbc85ce1c70>"
      ]
     },
     "execution_count": 26,
     "metadata": {},
     "output_type": "execute_result"
    },
    {
     "data": {
      "image/png": "[encoded data removed]",
      "text/plain": [
       "<Figure size 300x300 with 1 Axes>"
      ]
     },
     "metadata": {},
     "output_type": "display_data"
    }
   ],
   "source": [
    "plt.figure(figsize=(3,3))\n",
    "i = 0\n",
    "rmse = []\n",
    "r2 = []\n",
    "for df in [df_140_m,df_132_m,df_096_m]:\n",
    "    slope, intercept = np.polyfit(df.M, df.Yksz, 1)\n",
    "    best_fit_line = slope*df.M+intercept\n",
    "    rmse.append(mean_squared_error(df.Yksz, best_fit_line,squared=False))\n",
    "    r2.append(r2_score(df.Yksz, best_fit_line))\n",
    "    plt.plot(df.M, best_fit_line,linewidth=1,label=f'{snaps[i]}-{slope:.2f}')\n",
    "    i+=1\n",
    "plt.legend()"
   ]
  },
  {
   "cell_type": "code",
   "execution_count": 28,
   "metadata": {},
   "outputs": [
    {
     "data": {
      "text/plain": [
       "[1.144756036078561, 1.1447587085569164, 1.1244581168776409]"
      ]
     },
     "execution_count": 28,
     "metadata": {},
     "output_type": "execute_result"
    }
   ],
   "source": [
    "rmse"
   ]
  },
  {
   "cell_type": "code",
   "execution_count": 27,
   "metadata": {},
   "outputs": [
    {
     "data": {
      "text/plain": [
       "[0.34849521792878235, 0.3381751247675967, 0.3025901128859617]"
      ]
     },
     "execution_count": 27,
     "metadata": {},
     "output_type": "execute_result"
    }
   ],
   "source": [
    "r2"
   ]
  },
  {
   "cell_type": "code",
   "execution_count": 34,
   "metadata": {},
   "outputs": [],
   "source": [
    "def tune_hyperparameters(df, features, target, model_name):\n",
    "    X = df[features].values.reshape(-1, len(features))\n",
    "    y = df[target].values\n",
    "\n",
    "    # Split the data into training and testing sets\n",
    "    X_train, X_test, y_train, y_test = train_test_split(X, y, test_size=0.2, stratify=df.M_q,random_state=42)\n",
    "\n",
    "    if model_name == \"Linear Regression\":\n",
    "        model = LinearRegression()\n",
    "        param_grid = {}\n",
    "    elif model_name == \"Random Forest Regression\":\n",
    "        model = RandomForestRegressor()\n",
    "        param_grid = {\n",
    "            'n_estimators': [10, 50, 100, 200],\n",
    "            'max_depth': [ 10, 20, 30],\n",
    "            'min_samples_split': [2, 5, 10],\n",
    "            'min_samples_leaf': [1, 2, 4]\n",
    "        }\n",
    "    elif model_name == \"Support Vector Regression\":\n",
    "        model = SVR(kernel='linear')\n",
    "        param_grid = {\n",
    "            'C': [0.1, 1, 10],\n",
    "            'epsilon': [0.01, 0.1, 0.2]\n",
    "        }\n",
    "\n",
    "    # Initialize GridSearchCV\n",
    "    grid_search = GridSearchCV(model, param_grid, cv=5, n_jobs=4, scoring='neg_mean_squared_error')\n",
    "\n",
    "    # Fit the model with grid search\n",
    "    grid_search.fit(X_train, y_train)\n",
    "\n",
    "    # Get the best estimator and its hyperparameters\n",
    "    best_model = grid_search.best_estimator_\n",
    "    best_params = grid_search.best_params_\n",
    "\n",
    "    # Make predictions on the test set\n",
    "    y_pred = best_model.predict(X_test)\n",
    "\n",
    "    # Evaluate the model\n",
    "    rmse = mean_squared_error(y_test, y_pred, squared=False)\n",
    "    r2 = r2_score(y_test, y_pred)\n",
    "\n",
    "    return {\n",
    "        \"Best Model\": best_model,\n",
    "        \"Best Hyperparameters\": best_params,\n",
    "        \"RMSE\": rmse,\n",
    "        \"R-squared\": r2\n",
    "    }\n"
   ]
  },
  {
   "cell_type": "code",
   "execution_count": 35,
   "metadata": {},
   "outputs": [
    {
     "name": "stdout",
     "output_type": "stream",
     "text": [
      "Results for M:\n",
      "Best Hyperparameters: {}\n",
      "RMSE: 1.19, R-squared: 0.32\n",
      "\n",
      "Results for [M, Mstar]:\n",
      "Best Hyperparameters: {}\n",
      "RMSE: 1.19, R-squared: 0.32\n",
      "\n",
      "Results for [M, Vz]:\n",
      "Best Hyperparameters: {}\n",
      "RMSE: 1.19, R-squared: 0.32\n",
      "\n",
      "Results for [M, Mstar, Vz]:\n",
      "Best Hyperparameters: {}\n",
      "RMSE: 1.19, R-squared: 0.32\n",
      "\n"
     ]
    }
   ],
   "source": [
    "\n",
    "results_M = tune_hyperparameters(df_140_m, ['M'], 'Yksz', \"Linear Regression\")\n",
    "results_MMstar = tune_hyperparameters(df_140_m, ['M', 'Mstar'], 'Yksz', \"Linear Regression\")\n",
    "results_MVz = tune_hyperparameters(df_140_m, ['M', 'Vz'], 'Yksz', \"Linear Regression\")\n",
    "results_MMVz = tune_hyperparameters(df_140_m, ['M', 'Mstar', 'Vz'], 'Yksz', \"Linear Regression\")\n",
    "\n",
    "# Print and compare the results\n",
    "for feature_set, result in zip(['M', '[M, Mstar]', '[M, Vz]', '[M, Mstar, Vz]'],\n",
    "                               [results_M, results_MMstar, results_MVz, results_MMVz]):\n",
    "    print(f\"Results for {feature_set}:\")\n",
    "    print(f\"Best Hyperparameters: {result['Best Hyperparameters']}\")\n",
    "    print(f\"RMSE: {result['RMSE']:.2f}, R-squared: {result['R-squared']:.2f}\")\n",
    "    print()\n"
   ]
  },
  {
   "cell_type": "code",
   "execution_count": 36,
   "metadata": {},
   "outputs": [
    {
     "name": "stdout",
     "output_type": "stream",
     "text": [
      "Results for M:\n",
      "Best Hyperparameters: {'max_depth': 10, 'min_samples_leaf': 1, 'min_samples_split': 10, 'n_estimators': 200}\n",
      "RMSE: 1.21, R-squared: 0.30\n",
      "\n",
      "Results for [M, Mstar]:\n",
      "Best Hyperparameters: {'max_depth': 10, 'min_samples_leaf': 4, 'min_samples_split': 10, 'n_estimators': 200}\n",
      "RMSE: 1.20, R-squared: 0.31\n",
      "\n",
      "Results for [M, Vz]:\n",
      "Best Hyperparameters: {'max_depth': 10, 'min_samples_leaf': 4, 'min_samples_split': 10, 'n_estimators': 200}\n",
      "RMSE: 0.93, R-squared: 0.58\n",
      "\n",
      "Results for [M, Mstar, Vz]:\n",
      "Best Hyperparameters: {'max_depth': 10, 'min_samples_leaf': 4, 'min_samples_split': 10, 'n_estimators': 200}\n",
      "RMSE: 0.92, R-squared: 0.59\n",
      "\n"
     ]
    }
   ],
   "source": [
    "\n",
    "results_M = tune_hyperparameters(df_140_m, ['M'], 'Yksz', \"Random Forest Regression\")\n",
    "results_MMstar = tune_hyperparameters(df_140_m, ['M', 'Mstar'], 'Yksz', \"Random Forest Regression\")\n",
    "results_MVz = tune_hyperparameters(df_140_m, ['M', 'Vz'], 'Yksz', \"Random Forest Regression\")\n",
    "results_MMVz = tune_hyperparameters(df_140_m, ['M', 'Mstar', 'Vz'], 'Yksz', \"Random Forest Regression\")\n",
    "\n",
    "# Print and compare the results\n",
    "for feature_set, result in zip(['M', '[M, Mstar]', '[M, Vz]', '[M, Mstar, Vz]'],\n",
    "                               [results_M, results_MMstar, results_MVz, results_MMVz]):\n",
    "    print(f\"Results for {feature_set}:\")\n",
    "    print(f\"Best Hyperparameters: {result['Best Hyperparameters']}\")\n",
    "    print(f\"RMSE: {result['RMSE']:.2f}, R-squared: {result['R-squared']:.2f}\")\n",
    "    print()"
   ]
  },
  {
   "cell_type": "code",
   "execution_count": 37,
   "metadata": {},
   "outputs": [],
   "source": [
    "results_M = tune_hyperparameters(df_140_m, ['M'], 'Yksz', \"Support Vector Regression\")\n",
    "results_MMstar = tune_hyperparameters(df_140_m, ['M', 'Mstar'], 'Yksz', \"Support Vector Regression\")\n",
    "results_MVz = tune_hyperparameters(df_140_m, ['M', 'Vz'], 'Yksz', \"Support Vector Regression\")\n",
    "results_MMVz = tune_hyperparameters(df_140_m, ['M', 'Mstar', 'Vz'], 'Yksz', \"Support Vector Regression\")\n",
    "\n",
    "# Print and compare the results\n",
    "for feature_set, result in zip(['M', '[M, Mstar]', '[M, Vz]', '[M, Mstar, Vz]'],\n",
    "                               [results_M, results_MMstar, results_MVz, results_MMVz]):\n",
    "    print(f\"Results for {feature_set}:\")\n",
    "    print(f\"Best Hyperparameters: {result['Best Hyperparameters']}\")\n",
    "    print(f\"RMSE: {result['RMSE']:.2f}, R-squared: {result['R-squared']:.2f}\")\n",
    "    print()"
   ]
  },
  {
   "cell_type": "code",
   "execution_count": null,
   "metadata": {},
   "outputs": [],
   "source": []
  }
 ],
 "metadata": {
  "kernelspec": {
   "display_name": "base",
   "language": "python",
   "name": "python3"
  },
  "language_info": {
   "codemirror_mode": {
    "name": "ipython",
    "version": 3
   },
   "file_extension": ".py",
   "mimetype": "text/x-python",
   "name": "python",
   "nbconvert_exporter": "python",
   "pygments_lexer": "ipython3",
   "version": "3.8.8"
  },
  "orig_nbformat": 4
 },
 "nbformat": 4,
 "nbformat_minor": 2
}
