{
 "cells": [
  {
   "cell_type": "code",
   "execution_count": 1,
   "metadata": {},
   "outputs": [],
   "source": [
    "import sys \n",
    "import matplotlib.pyplot as plt\n",
    "import numpy as np\n",
    "sys.path.append('../')\n",
    "import warnings\n",
    "import seaborn as sns\n",
    "# To suppress all warnings\n",
    "warnings.filterwarnings(\"ignore\")\n",
    "from sklearn.metrics import  r2_score as r2\n",
    "from tqdm import tqdm\n",
    "import pandas as pd\n",
    "from sklearn.metrics import mean_squared_error,r2_score\n",
    "from sklearn.model_selection import train_test_split\n",
    "from sklearn.linear_model import LinearRegression\n",
    "from sklearn.ensemble import RandomForestRegressor\n",
    "from sklearn.svm import SVR\n",
    "from sklearn.model_selection import GridSearchCV"
   ]
  },
  {
   "cell_type": "code",
   "execution_count": 2,
   "metadata": {},
   "outputs": [],
   "source": [
    "%load_ext autoreload\n",
    "%autoreload 2\n",
    "from database import Magneticum\n",
    "from relation import Scaling\n",
    "from relation import Distribution\n",
    "from relation import Analysis\n",
    "from relation import RandomForest"
   ]
  },
  {
   "cell_type": "code",
   "execution_count": 3,
   "metadata": {},
   "outputs": [],
   "source": [
    "def data_manupulation(df):\n",
    "    dff = df.copy()\n",
    "    dff = dff[['Yksz','Vz','Mstar', 'M','Vlos']]\n",
    "    dff.Vz = dff.Vz.apply(lambda x: x/1e5)\n",
    "    dff.Mstar = dff.Mstar.apply(lambda x: np.log(x))\n",
    "    q_list = [0,0.25,0.5,0.75,1]\n",
    "    labels = [1,2,3,4]\n",
    "    dff['M_q'] = pd.qcut(dff['M'],q=q_list,labels=labels)\n",
    "    return dff"
   ]
  },
  {
   "cell_type": "code",
   "execution_count": 4,
   "metadata": {},
   "outputs": [],
   "source": [
    "snaps = ['140','132','096']"
   ]
  },
  {
   "cell_type": "code",
   "execution_count": 5,
   "metadata": {},
   "outputs": [],
   "source": [
    "boxno = 50"
   ]
  },
  {
   "cell_type": "code",
   "execution_count": 6,
   "metadata": {},
   "outputs": [],
   "source": [
    "df_140 = Analysis(boxno,'140','').get_dataframe()\n",
    "df_132 = Analysis(boxno,'132','').get_dataframe()\n",
    "df_096 = Analysis(boxno,'096','').get_dataframe()"
   ]
  },
  {
   "cell_type": "code",
   "execution_count": 7,
   "metadata": {},
   "outputs": [],
   "source": [
    "df_140_m = data_manupulation(df_140)\n",
    "df_132_m = data_manupulation(df_132)\n",
    "df_096_m = data_manupulation(df_096)"
   ]
  },
  {
   "cell_type": "code",
   "execution_count": 13,
   "metadata": {},
   "outputs": [
    {
     "data": {
      "text/html": [
       "<div>\n",
       "<style scoped>\n",
       "    .dataframe tbody tr th:only-of-type {\n",
       "        vertical-align: middle;\n",
       "    }\n",
       "\n",
       "    .dataframe tbody tr th {\n",
       "        vertical-align: top;\n",
       "    }\n",
       "\n",
       "    .dataframe thead th {\n",
       "        text-align: right;\n",
       "    }\n",
       "</style>\n",
       "<table border=\"1\" class=\"dataframe\">\n",
       "  <thead>\n",
       "    <tr style=\"text-align: right;\">\n",
       "      <th></th>\n",
       "      <th>UID</th>\n",
       "      <th>x[kpc/h]</th>\n",
       "      <th>y[kpc/h]</th>\n",
       "      <th>z[kpc/h]</th>\n",
       "      <th>x_pix</th>\n",
       "      <th>y_pix</th>\n",
       "      <th>i_sector</th>\n",
       "      <th>m500c[Msol/h]</th>\n",
       "      <th>r500c[kpc/h]</th>\n",
       "      <th>gas_frac</th>\n",
       "      <th>...</th>\n",
       "      <th>Vy</th>\n",
       "      <th>Vz</th>\n",
       "      <th>Vnet</th>\n",
       "      <th>vnet</th>\n",
       "      <th>Mstar</th>\n",
       "      <th>Mgas</th>\n",
       "      <th>Vlos</th>\n",
       "      <th>Yksz</th>\n",
       "      <th>M</th>\n",
       "      <th>Ytsz</th>\n",
       "    </tr>\n",
       "  </thead>\n",
       "  <tbody>\n",
       "    <tr>\n",
       "      <th>0</th>\n",
       "      <td>0</td>\n",
       "      <td>208707.380</td>\n",
       "      <td>203892.310</td>\n",
       "      <td>349705.03</td>\n",
       "      <td>9714</td>\n",
       "      <td>6893</td>\n",
       "      <td>6</td>\n",
       "      <td>1.032820e+15</td>\n",
       "      <td>1239.470</td>\n",
       "      <td>0.122792</td>\n",
       "      <td>...</td>\n",
       "      <td>-7.024034e+07</td>\n",
       "      <td>-4.433932e+07</td>\n",
       "      <td>8.685351e+07</td>\n",
       "      <td>282.734776</td>\n",
       "      <td>4.199206e+13</td>\n",
       "      <td>1.801449e+14</td>\n",
       "      <td>-197.449</td>\n",
       "      <td>-11.527557</td>\n",
       "      <td>34.922046</td>\n",
       "      <td>-8.236394</td>\n",
       "    </tr>\n",
       "    <tr>\n",
       "      <th>1</th>\n",
       "      <td>1</td>\n",
       "      <td>314110.310</td>\n",
       "      <td>24347.102</td>\n",
       "      <td>278058.44</td>\n",
       "      <td>14620</td>\n",
       "      <td>15250</td>\n",
       "      <td>15</td>\n",
       "      <td>6.263050e+14</td>\n",
       "      <td>1049.090</td>\n",
       "      <td>0.116260</td>\n",
       "      <td>...</td>\n",
       "      <td>2.602357e+07</td>\n",
       "      <td>-5.794033e+07</td>\n",
       "      <td>8.453292e+07</td>\n",
       "      <td>420.658838</td>\n",
       "      <td>2.597636e+13</td>\n",
       "      <td>1.034293e+14</td>\n",
       "      <td>-256.902</td>\n",
       "      <td>-11.819216</td>\n",
       "      <td>34.421836</td>\n",
       "      <td>-9.141237</td>\n",
       "    </tr>\n",
       "    <tr>\n",
       "      <th>2</th>\n",
       "      <td>2</td>\n",
       "      <td>83776.258</td>\n",
       "      <td>206510.050</td>\n",
       "      <td>144915.31</td>\n",
       "      <td>3899</td>\n",
       "      <td>6771</td>\n",
       "      <td>4</td>\n",
       "      <td>7.927850e+14</td>\n",
       "      <td>1134.840</td>\n",
       "      <td>0.121408</td>\n",
       "      <td>...</td>\n",
       "      <td>6.671624e+06</td>\n",
       "      <td>-4.979367e+06</td>\n",
       "      <td>2.812165e+07</td>\n",
       "      <td>210.422788</td>\n",
       "      <td>2.529345e+13</td>\n",
       "      <td>1.367194e+14</td>\n",
       "      <td>-124.361</td>\n",
       "      <td>-12.265680</td>\n",
       "      <td>34.657550</td>\n",
       "      <td>-8.625490</td>\n",
       "    </tr>\n",
       "    <tr>\n",
       "      <th>3</th>\n",
       "      <td>3</td>\n",
       "      <td>183729.830</td>\n",
       "      <td>193320.660</td>\n",
       "      <td>332756.00</td>\n",
       "      <td>8551</td>\n",
       "      <td>7385</td>\n",
       "      <td>6</td>\n",
       "      <td>1.800290e+14</td>\n",
       "      <td>692.373</td>\n",
       "      <td>0.112743</td>\n",
       "      <td>...</td>\n",
       "      <td>4.130841e+07</td>\n",
       "      <td>8.060328e+06</td>\n",
       "      <td>9.136059e+07</td>\n",
       "      <td>1151.476184</td>\n",
       "      <td>6.727305e+12</td>\n",
       "      <td>2.883098e+13</td>\n",
       "      <td>-434.947</td>\n",
       "      <td>-12.570125</td>\n",
       "      <td>33.175116</td>\n",
       "      <td>-11.038133</td>\n",
       "    </tr>\n",
       "    <tr>\n",
       "      <th>4</th>\n",
       "      <td>4</td>\n",
       "      <td>327315.410</td>\n",
       "      <td>233257.000</td>\n",
       "      <td>209403.95</td>\n",
       "      <td>15235</td>\n",
       "      <td>5526</td>\n",
       "      <td>7</td>\n",
       "      <td>6.558460e+14</td>\n",
       "      <td>1065.330</td>\n",
       "      <td>0.114432</td>\n",
       "      <td>...</td>\n",
       "      <td>5.183772e+07</td>\n",
       "      <td>-4.228684e+07</td>\n",
       "      <td>7.715612e+07</td>\n",
       "      <td>283.361004</td>\n",
       "      <td>2.607221e+13</td>\n",
       "      <td>1.066048e+14</td>\n",
       "      <td>-111.475</td>\n",
       "      <td>-12.623870</td>\n",
       "      <td>34.467924</td>\n",
       "      <td>-9.131897</td>\n",
       "    </tr>\n",
       "  </tbody>\n",
       "</table>\n",
       "<p>5 rows × 30 columns</p>\n",
       "</div>"
      ],
      "text/plain": [
       "   UID    x[kpc/h]    y[kpc/h]   z[kpc/h]  x_pix  y_pix  i_sector  \\\n",
       "0    0  208707.380  203892.310  349705.03   9714   6893         6   \n",
       "1    1  314110.310   24347.102  278058.44  14620  15250        15   \n",
       "2    2   83776.258  206510.050  144915.31   3899   6771         4   \n",
       "3    3  183729.830  193320.660  332756.00   8551   7385         6   \n",
       "4    4  327315.410  233257.000  209403.95  15235   5526         7   \n",
       "\n",
       "   m500c[Msol/h]  r500c[kpc/h]  gas_frac  ...            Vy            Vz  \\\n",
       "0   1.032820e+15      1239.470  0.122792  ... -7.024034e+07 -4.433932e+07   \n",
       "1   6.263050e+14      1049.090  0.116260  ...  2.602357e+07 -5.794033e+07   \n",
       "2   7.927850e+14      1134.840  0.121408  ...  6.671624e+06 -4.979367e+06   \n",
       "3   1.800290e+14       692.373  0.112743  ...  4.130841e+07  8.060328e+06   \n",
       "4   6.558460e+14      1065.330  0.114432  ...  5.183772e+07 -4.228684e+07   \n",
       "\n",
       "           Vnet         vnet         Mstar          Mgas     Vlos       Yksz  \\\n",
       "0  8.685351e+07   282.734776  4.199206e+13  1.801449e+14 -197.449 -11.527557   \n",
       "1  8.453292e+07   420.658838  2.597636e+13  1.034293e+14 -256.902 -11.819216   \n",
       "2  2.812165e+07   210.422788  2.529345e+13  1.367194e+14 -124.361 -12.265680   \n",
       "3  9.136059e+07  1151.476184  6.727305e+12  2.883098e+13 -434.947 -12.570125   \n",
       "4  7.715612e+07   283.361004  2.607221e+13  1.066048e+14 -111.475 -12.623870   \n",
       "\n",
       "           M       Ytsz  \n",
       "0  34.922046  -8.236394  \n",
       "1  34.421836  -9.141237  \n",
       "2  34.657550  -8.625490  \n",
       "3  33.175116 -11.038133  \n",
       "4  34.467924  -9.131897  \n",
       "\n",
       "[5 rows x 30 columns]"
      ]
     },
     "execution_count": 13,
     "metadata": {},
     "output_type": "execute_result"
    }
   ],
   "source": [
    "df_140.head()"
   ]
  },
  {
   "cell_type": "code",
   "execution_count": 10,
   "metadata": {},
   "outputs": [],
   "source": [
    "#m500c[Msol/h],vlos,vnet"
   ]
  },
  {
   "cell_type": "code",
   "execution_count": 25,
   "metadata": {},
   "outputs": [
    {
     "data": {
      "image/png": "[encoded data removed]",
      "text/plain": [
       "<Figure size 640x480 with 1 Axes>"
      ]
     },
     "metadata": {},
     "output_type": "display_data"
    }
   ],
   "source": [
    "plt.scatter(df_140['M'],df_140['vnet'],s=1,label='$z=0.03$')\n",
    "plt.legend(fontsize=15)\n",
    "plt.xlabel('$\\ln M_{500c}$',fontsize=15)\n",
    "plt.ylabel('$V_{net}$',fontsize=15)\n",
    "plt.savefig('vnet_m500c.pdf',dpi=300,bbox_inches='tight')"
   ]
  },
  {
   "cell_type": "code",
   "execution_count": 26,
   "metadata": {},
   "outputs": [
    {
     "data": {
      "text/plain": [
       "<matplotlib.legend.Legend at 0x7fbc85ce1c70>"
      ]
     },
     "execution_count": 26,
     "metadata": {},
     "output_type": "execute_result"
    },
    {
     "data": {
      "image/png": "[encoded data removed]",
      "text/plain": [
       "<Figure size 300x300 with 1 Axes>"
      ]
     },
     "metadata": {},
     "output_type": "display_data"
    }
   ],
   "source": [
    "plt.figure(figsize=(3,3))\n",
    "i = 0\n",
    "rmse = []\n",
    "r2 = []\n",
    "for df in [df_140_m,df_132_m,df_096_m]:\n",
    "    slope, intercept = np.polyfit(df.M, df.Yksz, 1)\n",
    "    best_fit_line = slope*df.M+intercept\n",
    "    rmse.append(mean_squared_error(df.Yksz, best_fit_line,squared=False))\n",
    "    r2.append(r2_score(df.Yksz, best_fit_line))\n",
    "    plt.plot(df.M, best_fit_line,linewidth=1,label=f'{snaps[i]}-{slope:.2f}')\n",
    "    i+=1\n",
    "plt.legend()"
   ]
  },
  {
   "cell_type": "code",
   "execution_count": 28,
   "metadata": {},
   "outputs": [
    {
     "data": {
      "text/plain": [
       "[1.144756036078561, 1.1447587085569164, 1.1244581168776409]"
      ]
     },
     "execution_count": 28,
     "metadata": {},
     "output_type": "execute_result"
    }
   ],
   "source": [
    "rmse"
   ]
  },
  {
   "cell_type": "code",
   "execution_count": 27,
   "metadata": {},
   "outputs": [
    {
     "data": {
      "text/plain": [
       "[0.34849521792878235, 0.3381751247675967, 0.3025901128859617]"
      ]
     },
     "execution_count": 27,
     "metadata": {},
     "output_type": "execute_result"
    }
   ],
   "source": [
    "r2"
   ]
  },
  {
   "cell_type": "code",
   "execution_count": 34,
   "metadata": {},
   "outputs": [],
   "source": [
    "def tune_hyperparameters(df, features, target, model_name):\n",
    "    X = df[features].values.reshape(-1, len(features))\n",
    "    y = df[target].values\n",
    "\n",
    "    # Split the data into training and testing sets\n",
    "    X_train, X_test, y_train, y_test = train_test_split(X, y, test_size=0.2, stratify=df.M_q,random_state=42)\n",
    "\n",
    "    if model_name == \"Linear Regression\":\n",
    "        model = LinearRegression()\n",
    "        param_grid = {}\n",
    "    elif model_name == \"Random Forest Regression\":\n",
    "        model = RandomForestRegressor()\n",
    "        param_grid = {\n",
    "            'n_estimators': [10, 50, 100, 200],\n",
    "            'max_depth': [ 10, 20, 30],\n",
    "            'min_samples_split': [2, 5, 10],\n",
    "            'min_samples_leaf': [1, 2, 4]\n",
    "        }\n",
    "    elif model_name == \"Support Vector Regression\":\n",
    "        model = SVR(kernel='linear')\n",
    "        param_grid = {\n",
    "            'C': [0.1, 1, 10],\n",
    "            'epsilon': [0.01, 0.1, 0.2]\n",
    "        }\n",
    "\n",
    "    # Initialize GridSearchCV\n",
    "    grid_search = GridSearchCV(model, param_grid, cv=5, n_jobs=4, scoring='neg_mean_squared_error')\n",
    "\n",
    "    # Fit the model with grid search\n",
    "    grid_search.fit(X_train, y_train)\n",
    "\n",
    "    # Get the best estimator and its hyperparameters\n",
    "    best_model = grid_search.best_estimator_\n",
    "    best_params = grid_search.best_params_\n",
    "\n",
    "    # Make predictions on the test set\n",
    "    y_pred = best_model.predict(X_test)\n",
    "\n",
    "    # Evaluate the model\n",
    "    rmse = mean_squared_error(y_test, y_pred, squared=False)\n",
    "    r2 = r2_score(y_test, y_pred)\n",
    "\n",
    "    return {\n",
    "        \"Best Model\": best_model,\n",
    "        \"Best Hyperparameters\": best_params,\n",
    "        \"RMSE\": rmse,\n",
    "        \"R-squared\": r2\n",
    "    }\n"
   ]
  },
  {
   "cell_type": "code",
   "execution_count": 35,
   "metadata": {},
   "outputs": [
    {
     "name": "stdout",
     "output_type": "stream",
     "text": [
      "Results for M:\n",
      "Best Hyperparameters: {}\n",
      "RMSE: 1.19, R-squared: 0.32\n",
      "\n",
      "Results for [M, Mstar]:\n",
      "Best Hyperparameters: {}\n",
      "RMSE: 1.19, R-squared: 0.32\n",
      "\n",
      "Results for [M, Vz]:\n",
      "Best Hyperparameters: {}\n",
      "RMSE: 1.19, R-squared: 0.32\n",
      "\n",
      "Results for [M, Mstar, Vz]:\n",
      "Best Hyperparameters: {}\n",
      "RMSE: 1.19, R-squared: 0.32\n",
      "\n"
     ]
    }
   ],
   "source": [
    "\n",
    "results_M = tune_hyperparameters(df_140_m, ['M'], 'Yksz', \"Linear Regression\")\n",
    "results_MMstar = tune_hyperparameters(df_140_m, ['M', 'Mstar'], 'Yksz', \"Linear Regression\")\n",
    "results_MVz = tune_hyperparameters(df_140_m, ['M', 'Vz'], 'Yksz', \"Linear Regression\")\n",
    "results_MMVz = tune_hyperparameters(df_140_m, ['M', 'Mstar', 'Vz'], 'Yksz', \"Linear Regression\")\n",
    "\n",
    "# Print and compare the results\n",
    "for feature_set, result in zip(['M', '[M, Mstar]', '[M, Vz]', '[M, Mstar, Vz]'],\n",
    "                               [results_M, results_MMstar, results_MVz, results_MMVz]):\n",
    "    print(f\"Results for {feature_set}:\")\n",
    "    print(f\"Best Hyperparameters: {result['Best Hyperparameters']}\")\n",
    "    print(f\"RMSE: {result['RMSE']:.2f}, R-squared: {result['R-squared']:.2f}\")\n",
    "    print()\n"
   ]
  },
  {
   "cell_type": "code",
   "execution_count": 36,
   "metadata": {},
   "outputs": [
    {
     "name": "stdout",
     "output_type": "stream",
     "text": [
      "Results for M:\n",
      "Best Hyperparameters: {'max_depth': 10, 'min_samples_leaf': 1, 'min_samples_split': 10, 'n_estimators': 200}\n",
      "RMSE: 1.21, R-squared: 0.30\n",
      "\n",
      "Results for [M, Mstar]:\n",
      "Best Hyperparameters: {'max_depth': 10, 'min_samples_leaf': 4, 'min_samples_split': 10, 'n_estimators': 200}\n",
      "RMSE: 1.20, R-squared: 0.31\n",
      "\n",
      "Results for [M, Vz]:\n",
      "Best Hyperparameters: {'max_depth': 10, 'min_samples_leaf': 4, 'min_samples_split': 10, 'n_estimators': 200}\n",
      "RMSE: 0.93, R-squared: 0.58\n",
      "\n",
      "Results for [M, Mstar, Vz]:\n",
      "Best Hyperparameters: {'max_depth': 10, 'min_samples_leaf': 4, 'min_samples_split': 10, 'n_estimators': 200}\n",
      "RMSE: 0.92, R-squared: 0.59\n",
      "\n"
     ]
    }
   ],
   "source": [
    "\n",
    "results_M = tune_hyperparameters(df_140_m, ['M'], 'Yksz', \"Random Forest Regression\")\n",
    "results_MMstar = tune_hyperparameters(df_140_m, ['M', 'Mstar'], 'Yksz', \"Random Forest Regression\")\n",
    "results_MVz = tune_hyperparameters(df_140_m, ['M', 'Vz'], 'Yksz', \"Random Forest Regression\")\n",
    "results_MMVz = tune_hyperparameters(df_140_m, ['M', 'Mstar', 'Vz'], 'Yksz', \"Random Forest Regression\")\n",
    "\n",
    "# Print and compare the results\n",
    "for feature_set, result in zip(['M', '[M, Mstar]', '[M, Vz]', '[M, Mstar, Vz]'],\n",
    "                               [results_M, results_MMstar, results_MVz, results_MMVz]):\n",
    "    print(f\"Results for {feature_set}:\")\n",
    "    print(f\"Best Hyperparameters: {result['Best Hyperparameters']}\")\n",
    "    print(f\"RMSE: {result['RMSE']:.2f}, R-squared: {result['R-squared']:.2f}\")\n",
    "    print()"
   ]
  },
  {
   "cell_type": "code",
   "execution_count": 37,
   "metadata": {},
   "outputs": [],
   "source": [
    "results_M = tune_hyperparameters(df_140_m, ['M'], 'Yksz', \"Support Vector Regression\")\n",
    "results_MMstar = tune_hyperparameters(df_140_m, ['M', 'Mstar'], 'Yksz', \"Support Vector Regression\")\n",
    "results_MVz = tune_hyperparameters(df_140_m, ['M', 'Vz'], 'Yksz', \"Support Vector Regression\")\n",
    "results_MMVz = tune_hyperparameters(df_140_m, ['M', 'Mstar', 'Vz'], 'Yksz', \"Support Vector Regression\")\n",
    "\n",
    "# Print and compare the results\n",
    "for feature_set, result in zip(['M', '[M, Mstar]', '[M, Vz]', '[M, Mstar, Vz]'],\n",
    "                               [results_M, results_MMstar, results_MVz, results_MMVz]):\n",
    "    print(f\"Results for {feature_set}:\")\n",
    "    print(f\"Best Hyperparameters: {result['Best Hyperparameters']}\")\n",
    "    print(f\"RMSE: {result['RMSE']:.2f}, R-squared: {result['R-squared']:.2f}\")\n",
    "    print()"
   ]
  },
  {
   "cell_type": "code",
   "execution_count": null,
   "metadata": {},
   "outputs": [],
   "source": []
  }
 ],
 "metadata": {
  "kernelspec": {
   "display_name": "base",
   "language": "python",
   "name": "python3"
  },
  "language_info": {
   "codemirror_mode": {
    "name": "ipython",
    "version": 3
   },
   "file_extension": ".py",
   "mimetype": "text/x-python",
   "name": "python",
   "nbconvert_exporter": "python",
   "pygments_lexer": "ipython3",
   "version": "3.8.8"
  },
  "orig_nbformat": 4
 },
 "nbformat": 4,
 "nbformat_minor": 2
}
