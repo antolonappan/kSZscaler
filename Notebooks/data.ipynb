{
 "cells": [
  {
   "cell_type": "code",
   "execution_count": 1,
   "metadata": {},
   "outputs": [],
   "source": [
    "import sys\n",
    "sys.path.append('../')"
   ]
  },
  {
   "cell_type": "code",
   "execution_count": 2,
   "metadata": {},
   "outputs": [],
   "source": [
    "%load_ext autoreload\n",
    "%autoreload 2\n",
    "from database import Magneticum"
   ]
  },
  {
   "cell_type": "code",
   "execution_count": 3,
   "metadata": {},
   "outputs": [],
   "source": [
    "m = Magneticum(140)"
   ]
  },
  {
   "cell_type": "code",
   "execution_count": 4,
   "metadata": {},
   "outputs": [
    {
     "name": "stdout",
     "output_type": "stream",
     "text": [
      "Downloading http://wwwmpa.mpa-garching.mpg.de/HydroSims/Magneticum/Downloads/Magneticum/Box2_hr/snap_140/cluster.txt.gz\n",
      "Unzipping /home/anto/Workspace/kSZscaler/Data/140.txt.gz\n",
      "Data saved to /home/anto/Workspace/kSZscaler/Data/140.txt\n"
     ]
    }
   ],
   "source": [
    "m.get_data()"
   ]
  },
  {
   "cell_type": "code",
   "execution_count": 5,
   "metadata": {},
   "outputs": [],
   "source": [
    "box2 = {'140':0.032637493,\n",
    "'136': 0.066340191, \n",
    "'132': 0.10114286,\n",
    "'128': 0.13708140, \n",
    "'124': 0.17419289, \n",
    "'120': 0.21251560, \n",
    "'116': 0.25208907, \n",
    "'112': 0.29295412, \n",
    "'108': 0.33515290, \n",
    "'104': 0.37872894, \n",
    "'100': 0.42372720, \n",
    "'096': 0.47019408, \n",
    "'092': 0.51817753, \n",
    "'088': 0.56772704, \n",
    "'084': 0.61889372, \n",
    "'080': 0.67173035, \n",
    "'076': 0.72629144, \n",
    "'072': 0.78263327, \n",
    "'068': 0.84081395, \n",
    "'064': 0.90089350, \n",
    "'060': 0.96293390, \n",
    "'056': 1.0433395 ,\n",
    "'052': 1.1788951 ,\n",
    "'048': 1.3234434 ,\n",
    "'044': 1.4775811 ,\n",
    "'040': 1.7063538 ,\n",
    "'036': 1.9800821 ,\n",
    "'032': 2.3346161 ,\n",
    "'028': 2.7917300 }"
   ]
  },
  {
   "cell_type": "code",
   "execution_count": 6,
   "metadata": {},
   "outputs": [
    {
     "data": {
      "text/plain": [
       "{'140': 0.032637493,\n",
       " '136': 0.066340191,\n",
       " '132': 0.10114286,\n",
       " '128': 0.1370814,\n",
       " '124': 0.17419289,\n",
       " '120': 0.2125156,\n",
       " '116': 0.25208907,\n",
       " '112': 0.29295412,\n",
       " '108': 0.3351529,\n",
       " '104': 0.37872894,\n",
       " '100': 0.4237272,\n",
       " '096': 0.47019408,\n",
       " '092': 0.51817753,\n",
       " '088': 0.56772704,\n",
       " '084': 0.61889372,\n",
       " '080': 0.67173035,\n",
       " '076': 0.72629144,\n",
       " '072': 0.78263327,\n",
       " '068': 0.84081395,\n",
       " '064': 0.9008935,\n",
       " '060': 0.9629339,\n",
       " '056': 1.0433395,\n",
       " '052': 1.1788951,\n",
       " '048': 1.3234434,\n",
       " '044': 1.4775811,\n",
       " '040': 1.7063538,\n",
       " '036': 1.9800821,\n",
       " '032': 2.3346161,\n",
       " '028': 2.79173}"
      ]
     },
     "execution_count": 6,
     "metadata": {},
     "output_type": "execute_result"
    }
   ],
   "source": [
    "box2"
   ]
  },
  {
   "cell_type": "code",
   "execution_count": 9,
   "metadata": {},
   "outputs": [],
   "source": [
    "import pickle as pl"
   ]
  },
  {
   "cell_type": "code",
   "execution_count": 10,
   "metadata": {},
   "outputs": [],
   "source": [
    "pl.dump(box2,open('../Data/box2.pkl','wb'))"
   ]
  },
  {
   "cell_type": "code",
   "execution_count": 11,
   "metadata": {},
   "outputs": [],
   "source": [
    "box2b = {'031':0.25208907 ,\n",
    "'030':0.29295412 ,\n",
    "'029':0.33515290 ,\n",
    "'028':0.37872894 ,\n",
    "'027':0.42372720 ,\n",
    "'026':0.47019408 ,\n",
    "'022':0.67173035 ,\n",
    "'018':0.90089350 ,\n",
    "'015':1.1788951 ,\n",
    "'012':1.7063538 ,\n",
    "'011':1.9800821 }"
   ]
  },
  {
   "cell_type": "code",
   "execution_count": 12,
   "metadata": {},
   "outputs": [],
   "source": [
    "pl.dump(box2b,open('../Data/box2b.pkl','wb'))"
   ]
  },
  {
   "cell_type": "code",
   "execution_count": null,
   "metadata": {},
   "outputs": [],
   "source": []
  }
 ],
 "metadata": {
  "kernelspec": {
   "display_name": "base",
   "language": "python",
   "name": "python3"
  },
  "language_info": {
   "codemirror_mode": {
    "name": "ipython",
    "version": 3
   },
   "file_extension": ".py",
   "mimetype": "text/x-python",
   "name": "python",
   "nbconvert_exporter": "python",
   "pygments_lexer": "ipython3",
   "version": "3.8.8"
  },
  "orig_nbformat": 4
 },
 "nbformat": 4,
 "nbformat_minor": 2
}
