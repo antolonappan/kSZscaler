{
 "cells": [
  {
   "cell_type": "code",
   "execution_count": 1,
   "metadata": {},
   "outputs": [],
   "source": [
    "import sys \n",
    "sys.path.append('../')"
   ]
  },
  {
   "cell_type": "code",
   "execution_count": 2,
   "metadata": {},
   "outputs": [],
   "source": [
    "import numpy as np\n",
    "import matplotlib.pyplot as plt\n",
    "import pandas as pd\n",
    "from astropy import units as u\n",
    "from scipy.fftpack import fftn, ifftn, fftfreq\n",
    "from mpl_toolkits.mplot3d import Axes3D\n",
    "from tqdm import tqdm"
   ]
  },
  {
   "cell_type": "code",
   "execution_count": 3,
   "metadata": {},
   "outputs": [],
   "source": [
    "%load_ext autoreload\n",
    "%autoreload 2\n",
    "from database import Magneticum"
   ]
  },
  {
   "cell_type": "code",
   "execution_count": 4,
   "metadata": {},
   "outputs": [],
   "source": [
    "dataframe_clu = Magneticum('022','b','cluster').dataframe\n"
   ]
  },
  {
   "cell_type": "code",
   "execution_count": 5,
   "metadata": {},
   "outputs": [],
   "source": [
    "dataframe_gal = Magneticum('022','b','galaxies').dataframe"
   ]
  },
  {
   "cell_type": "code",
   "execution_count": 16,
   "metadata": {},
   "outputs": [],
   "source": [
    "df1 = pd.DataFrame.from_dict(\n",
    "                            {'x':dataframe_clu['x[kpc/h]']/0.7,\n",
    "                            'y':dataframe_clu['y[kpc/h]']/0.7,\n",
    "                            'z':dataframe_clu['z[kpc/h]']/0.7,\n",
    "                            'vx':dataframe_clu['vx[km/s]'],\n",
    "                            'vy':dataframe_clu['vy[km/s]'],\n",
    "                            'vz':dataframe_clu['vz[km/s]'],\n",
    "                            }   \n",
    "                            )"
   ]
  },
  {
   "cell_type": "code",
   "execution_count": 17,
   "metadata": {},
   "outputs": [],
   "source": [
    "df2 = pd.DataFrame.from_dict(\n",
    "                            {'x':dataframe_gal['x[kpc/h]']/0.7,\n",
    "                            'y':dataframe_gal['y[kpc/h]']/0.7,\n",
    "                            'z':dataframe_gal['z[kpc/h]']/0.7,\n",
    "                            }\n",
    "                            )"
   ]
  },
  {
   "cell_type": "code",
   "execution_count": 45,
   "metadata": {},
   "outputs": [],
   "source": [
    "from sklearn.model_selection import train_test_split\n",
    "\n",
    "df_clu, _ = train_test_split(df1, test_size=.983, random_state=42)\n"
   ]
  },
  {
   "cell_type": "code",
   "execution_count": 46,
   "metadata": {},
   "outputs": [
    {
     "name": "stdout",
     "output_type": "stream",
     "text": [
      "42028 714 58.86274509803921\n"
     ]
    }
   ],
   "source": [
    "print(len(df1),len(df_clu),len(df1)/len(df_clu))"
   ]
  },
  {
   "cell_type": "code",
   "execution_count": 47,
   "metadata": {},
   "outputs": [],
   "source": [
    "df_gal = df2.copy()"
   ]
  },
  {
   "cell_type": "code",
   "execution_count": 48,
   "metadata": {},
   "outputs": [],
   "source": [
    "from scipy.spatial import KDTree\n",
    "\n",
    "\n",
    "df_clu[['x', 'y', 'z']] /= 1000  \n",
    "df_gal[['x', 'y', 'z']] /= 1000\n",
    "\n",
    "\n",
    "tree = KDTree(df_gal[['x', 'y', 'z']])\n",
    "\n",
    "# Finding galaxies within a 10 Mpc radius\n",
    "density = []\n",
    "for index, row in df_clu.iterrows():\n",
    "    density.append(len(tree.query_ball_point([row['x'], row['y'], row['z']], 10)))\n",
    "\n",
    "# Normalize the density\n",
    "mean_density = np.mean(density)\n",
    "density = (density - mean_density) / mean_density\n",
    "df_clu['density'] = density"
   ]
  },
  {
   "cell_type": "code",
   "execution_count": 51,
   "metadata": {},
   "outputs": [],
   "source": [
    "L_x = df1['x'].max() - df1['x'].min()\n",
    "L_y = df1['y'].max() - df1['y'].min()\n",
    "L_z = df1['z'].max() - df_clu['z'].min()\n",
    "\n",
    "# The box length L is the maximum extent in either x, y, or z direction\n",
    "L = max(L_x, L_y, L_z)"
   ]
  },
  {
   "cell_type": "code",
   "execution_count": 52,
   "metadata": {},
   "outputs": [],
   "source": [
    "L/=1000"
   ]
  },
  {
   "cell_type": "code",
   "execution_count": 53,
   "metadata": {},
   "outputs": [
    {
     "name": "stdout",
     "output_type": "stream",
     "text": [
      "(714, 714, 714)\n",
      "(714, 714, 714)\n"
     ]
    }
   ],
   "source": [
    "from numpy.fft import fftn, ifftn, fftfreq\n",
    "from scipy.interpolate import RegularGridInterpolator\n",
    "\n",
    "N = len(df_clu)  # Number of grid points\n",
    "grid_side_length = N # for a 128x128x128 grid. Adjust as needed.\n",
    "grid_edges = np.linspace(0, L, grid_side_length + 1)\n",
    "\n",
    "# Calculate the 3D histogram\n",
    "density_field, edges = np.histogramdd(df_clu[['x', 'y', 'z']].values, bins=[grid_edges, grid_edges, grid_edges], weights=df_clu['density'])\n",
    "\n",
    "# Now you can perform the FFT on the 3D density field\n",
    "density_ft = fftn(density_field)\n",
    "print(density_ft.shape)\n",
    "# Getting the wave vectors\n",
    "freq = fftfreq(N, d=L/N)\n",
    "kx, ky, kz = np.meshgrid(freq, freq, freq, indexing='ij')\n",
    "print(kx.shape)\n",
    "\n",
    "k_squared = kx**2 + ky**2 + kz**2\n",
    "k_squared[0, 0, 0] = 1\n",
    "\n",
    "# Calculating the momentum field (ignoring the factor of -i)\n",
    "momentum_x = density_ft * kx / k_squared\n",
    "momentum_y = density_ft * ky / k_squared\n",
    "momentum_z = density_ft * kz / k_squared\n",
    "\n",
    "# Inverse Fourier Transform to get velocity field\n",
    "velocity_x = np.real(ifftn(momentum_x))\n",
    "velocity_y = np.real(ifftn(momentum_y))\n",
    "velocity_z = np.real(ifftn(momentum_z))\n",
    "\n",
    "velocity_x_interpolator = RegularGridInterpolator((grid_edges[:-1], grid_edges[:-1], grid_edges[:-1]), velocity_x, bounds_error=False, fill_value=None)\n",
    "velocity_y_interpolator = RegularGridInterpolator((grid_edges[:-1], grid_edges[:-1], grid_edges[:-1]), velocity_y, bounds_error=False, fill_value=None)\n",
    "velocity_z_interpolator = RegularGridInterpolator((grid_edges[:-1], grid_edges[:-1], grid_edges[:-1]), velocity_z, bounds_error=False, fill_value=None)\n",
    "\n",
    "# Interpolating the velocities at the positions of the halos\n",
    "df_clu['Vx'] = velocity_x_interpolator(df_clu[['x', 'y', 'z']].values)\n",
    "df_clu['Vy'] = velocity_y_interpolator(df_clu[['x', 'y', 'z']].values)\n",
    "df_clu['Vz'] = velocity_z_interpolator(df_clu[['x', 'y', 'z']].values)\n",
    "\n"
   ]
  },
  {
   "cell_type": "code",
   "execution_count": 54,
   "metadata": {},
   "outputs": [
    {
     "data": {
      "text/plain": [
       "<matplotlib.collections.PathCollection at 0x7fa01c4ead00>"
      ]
     },
     "execution_count": 54,
     "metadata": {},
     "output_type": "execute_result"
    },
    {
     "data": {
      "image/png": "[encoded data removed]",
      "text/plain": [
       "<Figure size 432x288 with 1 Axes>"
      ]
     },
     "metadata": {
      "needs_background": "light"
     },
     "output_type": "display_data"
    }
   ],
   "source": [
    "plt.scatter(np.sqrt(df_clu['Vx']**2 + df_clu['Vy']**2 + df_clu['Vz']**2),np.sqrt(df_clu['vx']**2 + df_clu['vy']**2 + df_clu['vz']**2),s=1)"
   ]
  },
  {
   "cell_type": "code",
   "execution_count": 55,
   "metadata": {},
   "outputs": [
    {
     "data": {
      "text/plain": [
       "array([[1.        , 0.16789734],\n",
       "       [0.16789734, 1.        ]])"
      ]
     },
     "execution_count": 55,
     "metadata": {},
     "output_type": "execute_result"
    }
   ],
   "source": [
    "np.corrcoef(np.sqrt(df_clu['Vx']**2 + df_clu['Vy']**2 + df_clu['Vz']**2),np.sqrt(df_clu['vx']**2 + df_clu['vy']**2 + df_clu['vz']**2),)"
   ]
  },
  {
   "cell_type": "code",
   "execution_count": null,
   "metadata": {},
   "outputs": [],
   "source": []
  }
 ],
 "metadata": {
  "kernelspec": {
   "display_name": "base",
   "language": "python",
   "name": "python3"
  },
  "language_info": {
   "codemirror_mode": {
    "name": "ipython",
    "version": 3
   },
   "file_extension": ".py",
   "mimetype": "text/x-python",
   "name": "python",
   "nbconvert_exporter": "python",
   "pygments_lexer": "ipython3",
   "version": "3.9.12"
  },
  "orig_nbformat": 4
 },
 "nbformat": 4,
 "nbformat_minor": 2
}
