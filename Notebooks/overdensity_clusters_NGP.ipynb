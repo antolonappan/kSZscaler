{
 "cells": [
  {
   "cell_type": "code",
   "execution_count": 1,
   "id": "c8ef3e49",
   "metadata": {},
   "outputs": [],
   "source": [
    "%matplotlib inline\n",
    "import numpy as np\n",
    "import matplotlib.pyplot as plt\n",
    "from scipy import stats\n",
    "from astropy import units as un, constants as cons\n",
    "from astropy.cosmology import WMAP7 as cosmo\n",
    "import pandas as pd\n",
    "#from sklearn.ensemble import RandomForestRegressor\n",
    "#from sklearn.datasets import make_regression\n",
    "#from sklearn.model_selection import train_test_split\n",
    "from scipy.interpolate import RegularGridInterpolator\n",
    "from scipy.fftpack import fftn, ifftn, fftfreq"
   ]
  },
  {
   "cell_type": "code",
   "execution_count": 2,
   "id": "f4ddac02",
   "metadata": {},
   "outputs": [],
   "source": [
    "header_cluster = np.array(['UID', 'x[kpc/h]', 'y[kpc/h]', 'z[kpc/h]', 'x_pix', 'y_pix',\n",
    "                           'i_sector', 'm500c[Msol/h]', 'r500c[kpc/h]', 'gas_frac',\n",
    "                           'star_frac', 'T[kev]', 'Lx[1e44erg/s]', 'Y500c', 'M_sat/M_cD',\n",
    "                           'cshift[kpc]', 'vx[km/s]', 'vy[km/s]', 'vz[km/s]'])\n",
    "\n",
    "header_galaxy = np.array(['UID', 'x[kpc/h]', 'y[kpc/h]', 'z[kpc/h]', 'x_pix',\n",
    "                           'y_pix', 'i_sector', 'm[Msol/h]', 'sfr[Msol/year]',\n",
    "                           'host', 'dist[kpc/h]', 'log10(m_cD/m)', 'm_gas[Msol/h]',\n",
    "                           'vx[km/s]', 'vy[km/s]', 'vz[km/s]', 'dv[km/s]',\n",
    "                           'vr[km/s]', 'vt[km/s]'])\n"
   ]
  },
  {
   "cell_type": "code",
   "execution_count": 5,
   "id": "8cab462d",
   "metadata": {},
   "outputs": [],
   "source": [
    "clusterfile = np.loadtxt('../Data/cluster022b.txt')\n",
    "galaxyfile = np.loadtxt('../Data/galaxies022b.txt')"
   ]
  },
  {
   "cell_type": "code",
   "execution_count": 4,
   "id": "f4ffee18",
   "metadata": {},
   "outputs": [],
   "source": [
    "#galaxy positions\n",
    "h0 = 0.704\n",
    "z = 0.03 #snap140, box2hr\n",
    "xg = galaxyfile[:,np.where(header_galaxy=='x[kpc/h]')[0][0]]/h0\n",
    "yg = galaxyfile[:,np.where(header_galaxy=='y[kpc/h]')[0][0]]/h0\n",
    "zg = galaxyfile[:,np.where(header_galaxy=='z[kpc/h]')[0][0]]/h0\n",
    "pos3d_g = np.vstack((xg,yg,zg))"
   ]
  },
  {
   "cell_type": "code",
   "execution_count": 5,
   "id": "b905521a",
   "metadata": {},
   "outputs": [],
   "source": [
    "#cluster velocities & positions\n",
    "xc = clusterfile[:,np.where(header_cluster=='x[kpc/h]')[0][0]]/h0\n",
    "yc = clusterfile[:,np.where(header_cluster=='y[kpc/h]')[0][0]]/h0\n",
    "zc = clusterfile[:,np.where(header_cluster=='z[kpc/h]')[0][0]]/h0\n",
    "pos3d_c = np.vstack((xc,yc,zc))\n",
    "\n",
    "vx = clusterfile[:,np.where(header_cluster=='vx[km/s]')[0][0]]*1e5 #cm/s\n",
    "vy = clusterfile[:,np.where(header_cluster=='vy[km/s]')[0][0]]*1e5 #cm/s\n",
    "vz = clusterfile[:,np.where(header_cluster=='vz[km/s]')[0][0]]*1e5 #cm/s\n",
    "vnet = np.sqrt(vx**2.+vy**2.+vz**2.) "
   ]
  },
  {
   "cell_type": "code",
   "execution_count": 6,
   "id": "a65a6f2b",
   "metadata": {},
   "outputs": [
    {
     "name": "stdout",
     "output_type": "stream",
     "text": [
      "Bin length [Mpc] and avg galaxies per cubic volume = 10.0 , 10.882456\n"
     ]
    }
   ],
   "source": [
    "boxmin, boxmax,  = 0., 5e5 #in kpc (500Mpc)\n",
    "nbins = 50\n",
    "bin_len = boxmax/nbins # kpc\n",
    "\n",
    "#making sure we have enough resolution\n",
    "ngalx = len(xg)\n",
    "box_volume = boxmax**3\n",
    "bin_volume = bin_len**3\n",
    "navg = ngalx*bin_volume/box_volume\n",
    "print ('Bin length [Mpc] and avg galaxies per cubic volume =', bin_len/1e3,',', navg)"
   ]
  },
  {
   "cell_type": "code",
   "execution_count": 7,
   "id": "04c26c23",
   "metadata": {},
   "outputs": [],
   "source": [
    "#counting number of clusters in each voxel\n",
    "binedges = np.linspace(boxmin,boxmax,nbins+1)\n",
    "bincenters = 0.5*(binedges[1:]+binedges[:-1])\n",
    "ret = stats.binned_statistic_dd(pos3d_g.T, None, 'count', \n",
    "                                bins=[binedges, binedges, binedges])\n",
    "Ngalx = ret.statistic"
   ]
  },
  {
   "cell_type": "code",
   "execution_count": 8,
   "id": "c36afad7",
   "metadata": {},
   "outputs": [
    {
     "data": {
      "text/plain": [
       "(10.882456, 6.0, 0.0, (50, 50, 50))"
      ]
     },
     "execution_count": 8,
     "metadata": {},
     "output_type": "execute_result"
    }
   ],
   "source": [
    "np.mean(Ngalx), np.median(Ngalx), Ngalx.min(), Ngalx.shape"
   ]
  },
  {
   "cell_type": "code",
   "execution_count": 9,
   "id": "3e196777",
   "metadata": {},
   "outputs": [],
   "source": [
    "def f_growth_fit(Om,Ol):\n",
    "    return Om**(4./7.)+(1.+Om/2.)*Ol/70."
   ]
  },
  {
   "cell_type": "code",
   "execution_count": 10,
   "id": "636cf5cc",
   "metadata": {},
   "outputs": [
    {
     "name": "stdout",
     "output_type": "stream",
     "text": [
      "0.48703637686475193 0.48866687103994816\n"
     ]
    }
   ],
   "source": [
    "Om=cosmo.Om0\n",
    "Ol=1.-Om\n",
    "print (f_growth_fit(Om,Ol), Om**0.55)"
   ]
  },
  {
   "cell_type": "code",
   "execution_count": 11,
   "id": "a2e00fb1",
   "metadata": {},
   "outputs": [],
   "source": [
    "Ngalx_avg = np.mean(Ngalx)\n",
    "deltag = Ngalx/Ngalx_avg-1.\n",
    "f_growth = 0.5# approx\n",
    "H0 = cosmo.H0.to('/s').value\n",
    "a0 = 1./(1.+z)\n",
    "bg = 5. #galaxy bias\n",
    "deltak = fftn(-a0*H0*f_growth*deltag/bg)"
   ]
  },
  {
   "cell_type": "code",
   "execution_count": null,
   "id": "c862bad1",
   "metadata": {},
   "outputs": [],
   "source": [
    "'''# interpolating\n",
    "itp = RegularGridInterpolator((bincenters,bincenters,bincenters), deltag, method='nearest',\n",
    "                             bounds_error=False, fill_value=None) \n",
    "deltag_itp = itp(pos3d.T)\n",
    "deltak_itp = fftn(deltag_itp)'''"
   ]
  },
  {
   "cell_type": "code",
   "execution_count": 12,
   "id": "9c525602",
   "metadata": {},
   "outputs": [],
   "source": [
    "freq = fftfreq(nbins, d=bin_len*cons.kpc.to('cm').value)\n",
    "kx, ky, kz = np.meshgrid(freq, freq, freq, indexing='ij')\n",
    "k_squared = kx**2 + ky**2 + kz**2\n",
    "k_squared[0, 0, 0] = 1"
   ]
  },
  {
   "cell_type": "code",
   "execution_count": 28,
   "id": "34f46231",
   "metadata": {},
   "outputs": [],
   "source": [
    "#Gaussian filter\n",
    "R_filter = 1.5*bin_len*cons.kpc.to('cm').value\n",
    "Wk = np.exp(-R_filter**2*k_squared/2.)\n",
    "\n",
    "# Calculating the momentum field (ignoring the factor of -i)\n",
    "momentum_x = deltak * Wk * kx / k_squared\n",
    "momentum_y = deltak * Wk * ky / k_squared\n",
    "momentum_z = deltak * Wk * kz / k_squared\n",
    "\n",
    "# Inverse Fourier Transform to get velocity field\n",
    "velocity_x = np.real(ifftn(-1j*momentum_x))\n",
    "velocity_y = np.real(ifftn(-1j*momentum_y))\n",
    "velocity_z = np.real(ifftn(-1j*momentum_z))\n",
    "\n",
    "velocity_x_interpolator = RegularGridInterpolator((bincenters,bincenters,bincenters), \n",
    "                                                  velocity_x, bounds_error=False, \n",
    "                                                  fill_value=None, method='linear')\n",
    "velocity_y_interpolator = RegularGridInterpolator((bincenters,bincenters,bincenters), \n",
    "                                                  velocity_y, bounds_error=False, \n",
    "                                                  fill_value=None, method='linear')\n",
    "velocity_z_interpolator = RegularGridInterpolator((bincenters,bincenters,bincenters), \n",
    "                                                  velocity_z, bounds_error=False, \n",
    "                                                  fill_value=None, method='linear')\n",
    "\n",
    "#interpolating velocities at cluster locations\n",
    "vx_itp = velocity_x_interpolator(pos3d_c.T)\n",
    "vy_itp = velocity_y_interpolator(pos3d_c.T)\n",
    "vz_itp = velocity_z_interpolator(pos3d_c.T)\n",
    "vnet_itp = np.sqrt(vx_itp**2+vy_itp**2+vz_itp**2)"
   ]
  },
  {
   "cell_type": "code",
   "execution_count": 29,
   "id": "4bf593e6",
   "metadata": {},
   "outputs": [
    {
     "data": {
      "image/png": "[encoded data removed]",
      "text/plain": [
       "<Figure size 432x288 with 1 Axes>"
      ]
     },
     "metadata": {
      "needs_background": "light"
     },
     "output_type": "display_data"
    },
    {
     "name": "stdout",
     "output_type": "stream",
     "text": [
      "avg correlation = 0.8443810436917607\n"
     ]
    }
   ],
   "source": [
    "plt.loglog(vnet/1e5,vnet_itp/1e5,'r.',markersize=1)\n",
    "plt.xlabel(r'$\\rm v_{true}\\, [km/s]$', fontsize=14)\n",
    "plt.ylabel(r'$\\rm v_{pred}\\, [km/s]$', fontsize=14)\n",
    "plt.plot([20,2e3],[20,2e3],'k--')\n",
    "plt.grid()\n",
    "plt.show()\n",
    "print ('avg correlation =', np.corrcoef(vnet,vnet_itp)[0][1])"
   ]
  },
  {
   "cell_type": "code",
   "execution_count": 30,
   "id": "cb5a3438",
   "metadata": {},
   "outputs": [
    {
     "data": {
      "image/png": "[encoded data removed]",
      "text/plain": [
       "<Figure size 432x288 with 1 Axes>"
      ]
     },
     "metadata": {
      "needs_background": "light"
     },
     "output_type": "display_data"
    },
    {
     "name": "stdout",
     "output_type": "stream",
     "text": [
      "avg correlation = 0.9000211993332726\n"
     ]
    }
   ],
   "source": [
    "plt.plot(vz/1e5,vz_itp/1e5,'r.',markersize=1)\n",
    "plt.xlabel(r'$\\rm v^z_{true}\\, [km/s]$', fontsize=14)\n",
    "plt.ylabel(r'$\\rm v^z_{pred}\\, [km/s]$', fontsize=14)\n",
    "plt.plot([-1e3,1e3],[-1e3,1e3],'k--')\n",
    "plt.grid()\n",
    "plt.show()\n",
    "print ('avg correlation =', np.corrcoef(vz,vz_itp)[0][1])"
   ]
  }
 ],
 "metadata": {
  "kernelspec": {
   "display_name": "Python 3",
   "language": "python",
   "name": "python3"
  },
  "language_info": {
   "codemirror_mode": {
    "name": "ipython",
    "version": 3
   },
   "file_extension": ".py",
   "mimetype": "text/x-python",
   "name": "python",
   "nbconvert_exporter": "python",
   "pygments_lexer": "ipython3",
   "version": "3.8.8"
  }
 },
 "nbformat": 4,
 "nbformat_minor": 5
}
