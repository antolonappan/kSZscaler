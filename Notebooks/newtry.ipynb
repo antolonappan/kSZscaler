{
 "cells": [
  {
   "cell_type": "code",
   "execution_count": 1,
   "metadata": {},
   "outputs": [],
   "source": [
    "import sys \n",
    "sys.path.append('../')"
   ]
  },
  {
   "cell_type": "code",
   "execution_count": 55,
   "metadata": {},
   "outputs": [],
   "source": [
    "import numpy as np\n",
    "import matplotlib.pyplot as plt\n",
    "import pandas as pd\n",
    "from astropy import units as u\n",
    "from scipy.fftpack import fftn, ifftn, fftfreq\n",
    "from mpl_toolkits.mplot3d import Axes3D"
   ]
  },
  {
   "cell_type": "code",
   "execution_count": 3,
   "metadata": {},
   "outputs": [],
   "source": [
    "%load_ext autoreload\n",
    "%autoreload 2\n",
    "from database import Magneticum"
   ]
  },
  {
   "cell_type": "code",
   "execution_count": 4,
   "metadata": {},
   "outputs": [],
   "source": [
    "dataframe_clu = Magneticum('022','b','cluster').dataframe\n"
   ]
  },
  {
   "cell_type": "code",
   "execution_count": 5,
   "metadata": {},
   "outputs": [],
   "source": [
    "dataframe_gal = Magneticum('022','b','galaxies').dataframe"
   ]
  },
  {
   "cell_type": "code",
   "execution_count": 7,
   "metadata": {},
   "outputs": [],
   "source": [
    "df1 = pd.DataFrame.from_dict(\n",
    "                            {'x':dataframe_clu['x[kpc/h]']/0.7,\n",
    "                            'y':dataframe_clu['y[kpc/h]']/0.7,\n",
    "                            'z':dataframe_clu['z[kpc/h]']/0.7,\n",
    "                            'vx':dataframe_clu['vx[km/s]'],\n",
    "                            'vy':dataframe_clu['vy[km/s]'],\n",
    "                            'vz':dataframe_clu['vz[km/s]'],\n",
    "                            }   \n",
    "                            )"
   ]
  },
  {
   "cell_type": "code",
   "execution_count": 8,
   "metadata": {},
   "outputs": [],
   "source": [
    "df2 = pd.DataFrame.from_dict(\n",
    "                            {'x':dataframe_gal['x[kpc/h]']/0.7,\n",
    "                            'y':dataframe_gal['y[kpc/h]']/0.7,\n",
    "                            'z':dataframe_gal['z[kpc/h]']/0.7,\n",
    "                            }\n",
    "                            )"
   ]
  },
  {
   "cell_type": "code",
   "execution_count": 9,
   "metadata": {},
   "outputs": [],
   "source": []
  },
  {
   "cell_type": "code",
   "execution_count": 10,
   "metadata": {},
   "outputs": [],
   "source": []
  },
  {
   "cell_type": "code",
   "execution_count": 134,
   "metadata": {},
   "outputs": [],
   "source": [
    "def insert_cube_ids(n,df1,df2=None):\n",
    "\n",
    "    min_x, max_x = df1['x'].min(), df1['x'].max()\n",
    "    min_y, max_y = df1['y'].min(), df1['y'].max()\n",
    "    min_z, max_z = df1['z'].min(), df1['z'].max()   \n",
    "    \n",
    "    num_cubes_x = num_cubes_y = num_cubes_z = n\n",
    "\n",
    "    cube_sizex = int(np.ceil((max_x - min_x) / num_cubes_x))\n",
    "    cube_sizey = int(np.ceil((max_y - min_y) / num_cubes_y))\n",
    "    cube_sizez = int(np.ceil((max_z - min_z) / num_cubes_z))\n",
    "\n",
    "    #assert cube_sizex == cube_sizey == cube_sizez, (cube_sizex, cube_sizey, cube_sizez)\n",
    "    print(f\"Cube size: {(cube_sizex*u.kpc).to(u.Mpc)}\")\n",
    "\n",
    "\n",
    "    def assign_cube_ids(df):\n",
    "        cube_x = np.floor((df['x'] - min_x) / cube_sizex).astype(int)\n",
    "        cube_y = np.floor((df['y'] - min_y) / cube_sizey).astype(int)\n",
    "        cube_z = np.floor((df['z'] - min_z) / cube_sizez).astype(int)\n",
    "        df['cube_id'] = (cube_x * num_cubes_y * num_cubes_z +\n",
    "                        cube_y * num_cubes_z +\n",
    "                        cube_z)\n",
    "        return df\n",
    "    if df2 is not None:\n",
    "        df2 = df2[(min_x < df2['x']) & (df2['x']< max_x)]\n",
    "        df2 = df2[(min_y < df2['y']) & (df2['y']< max_y)]\n",
    "        df2 = df2[(min_z < df2['z']) & (df2['z']< max_z)]\n",
    "        return assign_cube_ids(df2)\n",
    "    else:\n",
    "        return assign_cube_ids(df1)"
   ]
  },
  {
   "cell_type": "code",
   "execution_count": 158,
   "metadata": {},
   "outputs": [
    {
     "name": "stdout",
     "output_type": "stream",
     "text": [
      "Cube size: 10.047 Mpc\n"
     ]
    }
   ],
   "source": [
    "dff1 = insert_cube_ids(91,df1)"
   ]
  },
  {
   "cell_type": "code",
   "execution_count": 159,
   "metadata": {},
   "outputs": [
    {
     "name": "stdout",
     "output_type": "stream",
     "text": [
      "Cube size: 10.047 Mpc\n"
     ]
    }
   ],
   "source": [
    "dff2 = insert_cube_ids(91,df1,df2)"
   ]
  },
  {
   "cell_type": "code",
   "execution_count": 164,
   "metadata": {},
   "outputs": [
    {
     "data": {
      "text/plain": [
       "36320"
      ]
     },
     "execution_count": 164,
     "metadata": {},
     "output_type": "execute_result"
    }
   ],
   "source": [
    "len(dff1.groupby('cube_id').size())"
   ]
  },
  {
   "cell_type": "code",
   "execution_count": 165,
   "metadata": {},
   "outputs": [
    {
     "data": {
      "text/plain": [
       "670039"
      ]
     },
     "execution_count": 165,
     "metadata": {},
     "output_type": "execute_result"
    }
   ],
   "source": [
    "len(dff2.groupby('cube_id').size())"
   ]
  },
  {
   "cell_type": "code",
   "execution_count": 166,
   "metadata": {},
   "outputs": [
    {
     "data": {
      "text/html": [
       "<div>\n",
       "<style scoped>\n",
       "    .dataframe tbody tr th:only-of-type {\n",
       "        vertical-align: middle;\n",
       "    }\n",
       "\n",
       "    .dataframe tbody tr th {\n",
       "        vertical-align: top;\n",
       "    }\n",
       "\n",
       "    .dataframe thead th {\n",
       "        text-align: right;\n",
       "    }\n",
       "</style>\n",
       "<table border=\"1\" class=\"dataframe\">\n",
       "  <thead>\n",
       "    <tr style=\"text-align: right;\">\n",
       "      <th></th>\n",
       "      <th>x</th>\n",
       "      <th>y</th>\n",
       "      <th>z</th>\n",
       "      <th>vx</th>\n",
       "      <th>vy</th>\n",
       "      <th>vz</th>\n",
       "      <th>cube_id</th>\n",
       "    </tr>\n",
       "  </thead>\n",
       "  <tbody>\n",
       "    <tr>\n",
       "      <th>24091</th>\n",
       "      <td>7661.077</td>\n",
       "      <td>3611.538714</td>\n",
       "      <td>189034.914286</td>\n",
       "      <td>-250.165</td>\n",
       "      <td>-356.233</td>\n",
       "      <td>87.6198</td>\n",
       "      <td>18</td>\n",
       "    </tr>\n",
       "  </tbody>\n",
       "</table>\n",
       "</div>"
      ],
      "text/plain": [
       "              x            y              z       vx       vy       vz  \\\n",
       "24091  7661.077  3611.538714  189034.914286 -250.165 -356.233  87.6198   \n",
       "\n",
       "       cube_id  \n",
       "24091       18  "
      ]
     },
     "execution_count": 166,
     "metadata": {},
     "output_type": "execute_result"
    }
   ],
   "source": [
    "dff1[dff1['cube_id']==18]"
   ]
  },
  {
   "cell_type": "code",
   "execution_count": 167,
   "metadata": {},
   "outputs": [
    {
     "data": {
      "text/html": [
       "<div>\n",
       "<style scoped>\n",
       "    .dataframe tbody tr th:only-of-type {\n",
       "        vertical-align: middle;\n",
       "    }\n",
       "\n",
       "    .dataframe tbody tr th {\n",
       "        vertical-align: top;\n",
       "    }\n",
       "\n",
       "    .dataframe thead th {\n",
       "        text-align: right;\n",
       "    }\n",
       "</style>\n",
       "<table border=\"1\" class=\"dataframe\">\n",
       "  <thead>\n",
       "    <tr style=\"text-align: right;\">\n",
       "      <th></th>\n",
       "      <th>x</th>\n",
       "      <th>y</th>\n",
       "      <th>z</th>\n",
       "      <th>cube_id</th>\n",
       "    </tr>\n",
       "  </thead>\n",
       "  <tbody>\n",
       "    <tr>\n",
       "      <th>559677</th>\n",
       "      <td>7661.077000</td>\n",
       "      <td>3611.538714</td>\n",
       "      <td>189034.914286</td>\n",
       "      <td>18</td>\n",
       "    </tr>\n",
       "    <tr>\n",
       "      <th>559678</th>\n",
       "      <td>7693.832286</td>\n",
       "      <td>3557.487143</td>\n",
       "      <td>189024.285714</td>\n",
       "      <td>18</td>\n",
       "    </tr>\n",
       "    <tr>\n",
       "      <th>559679</th>\n",
       "      <td>7606.628714</td>\n",
       "      <td>3673.520143</td>\n",
       "      <td>189016.828571</td>\n",
       "      <td>18</td>\n",
       "    </tr>\n",
       "    <tr>\n",
       "      <th>559680</th>\n",
       "      <td>7554.297571</td>\n",
       "      <td>3691.686714</td>\n",
       "      <td>189076.971429</td>\n",
       "      <td>18</td>\n",
       "    </tr>\n",
       "    <tr>\n",
       "      <th>559681</th>\n",
       "      <td>7680.904714</td>\n",
       "      <td>3638.647857</td>\n",
       "      <td>188842.428571</td>\n",
       "      <td>18</td>\n",
       "    </tr>\n",
       "    <tr>\n",
       "      <th>559682</th>\n",
       "      <td>7575.853857</td>\n",
       "      <td>3636.997714</td>\n",
       "      <td>188635.085714</td>\n",
       "      <td>18</td>\n",
       "    </tr>\n",
       "    <tr>\n",
       "      <th>559683</th>\n",
       "      <td>7937.513286</td>\n",
       "      <td>2928.326571</td>\n",
       "      <td>188384.928571</td>\n",
       "      <td>18</td>\n",
       "    </tr>\n",
       "    <tr>\n",
       "      <th>559684</th>\n",
       "      <td>7723.461857</td>\n",
       "      <td>3580.341857</td>\n",
       "      <td>189027.028571</td>\n",
       "      <td>18</td>\n",
       "    </tr>\n",
       "    <tr>\n",
       "      <th>559685</th>\n",
       "      <td>7527.214000</td>\n",
       "      <td>3646.899714</td>\n",
       "      <td>189125.000000</td>\n",
       "      <td>18</td>\n",
       "    </tr>\n",
       "    <tr>\n",
       "      <th>559686</th>\n",
       "      <td>7722.066857</td>\n",
       "      <td>3359.199286</td>\n",
       "      <td>188991.428571</td>\n",
       "      <td>18</td>\n",
       "    </tr>\n",
       "    <tr>\n",
       "      <th>559687</th>\n",
       "      <td>7761.647571</td>\n",
       "      <td>3517.407286</td>\n",
       "      <td>188708.642857</td>\n",
       "      <td>18</td>\n",
       "    </tr>\n",
       "    <tr>\n",
       "      <th>559688</th>\n",
       "      <td>7756.065857</td>\n",
       "      <td>4235.255714</td>\n",
       "      <td>189249.800000</td>\n",
       "      <td>18</td>\n",
       "    </tr>\n",
       "    <tr>\n",
       "      <th>559689</th>\n",
       "      <td>7466.008714</td>\n",
       "      <td>3169.034286</td>\n",
       "      <td>188456.971429</td>\n",
       "      <td>18</td>\n",
       "    </tr>\n",
       "    <tr>\n",
       "      <th>559690</th>\n",
       "      <td>7484.557714</td>\n",
       "      <td>3162.170714</td>\n",
       "      <td>188433.185714</td>\n",
       "      <td>18</td>\n",
       "    </tr>\n",
       "    <tr>\n",
       "      <th>3552016</th>\n",
       "      <td>2905.761429</td>\n",
       "      <td>2807.302714</td>\n",
       "      <td>189536.157143</td>\n",
       "      <td>18</td>\n",
       "    </tr>\n",
       "    <tr>\n",
       "      <th>3888726</th>\n",
       "      <td>5965.777714</td>\n",
       "      <td>4046.152714</td>\n",
       "      <td>190283.742857</td>\n",
       "      <td>18</td>\n",
       "    </tr>\n",
       "    <tr>\n",
       "      <th>4035217</th>\n",
       "      <td>2415.423714</td>\n",
       "      <td>740.678014</td>\n",
       "      <td>189237.414286</td>\n",
       "      <td>18</td>\n",
       "    </tr>\n",
       "    <tr>\n",
       "      <th>4791314</th>\n",
       "      <td>9643.245714</td>\n",
       "      <td>3298.630714</td>\n",
       "      <td>186071.914286</td>\n",
       "      <td>18</td>\n",
       "    </tr>\n",
       "    <tr>\n",
       "      <th>4791315</th>\n",
       "      <td>9802.853000</td>\n",
       "      <td>3384.228143</td>\n",
       "      <td>186075.500000</td>\n",
       "      <td>18</td>\n",
       "    </tr>\n",
       "    <tr>\n",
       "      <th>5551661</th>\n",
       "      <td>7440.531571</td>\n",
       "      <td>212.956871</td>\n",
       "      <td>187663.457143</td>\n",
       "      <td>18</td>\n",
       "    </tr>\n",
       "    <tr>\n",
       "      <th>5680227</th>\n",
       "      <td>2235.045286</td>\n",
       "      <td>9765.736571</td>\n",
       "      <td>187751.757143</td>\n",
       "      <td>18</td>\n",
       "    </tr>\n",
       "    <tr>\n",
       "      <th>6565050</th>\n",
       "      <td>2405.056571</td>\n",
       "      <td>379.679343</td>\n",
       "      <td>188893.328571</td>\n",
       "      <td>18</td>\n",
       "    </tr>\n",
       "    <tr>\n",
       "      <th>7012090</th>\n",
       "      <td>9352.497857</td>\n",
       "      <td>1837.541000</td>\n",
       "      <td>185636.885714</td>\n",
       "      <td>18</td>\n",
       "    </tr>\n",
       "    <tr>\n",
       "      <th>7735782</th>\n",
       "      <td>141.212060</td>\n",
       "      <td>7866.600143</td>\n",
       "      <td>181568.514286</td>\n",
       "      <td>18</td>\n",
       "    </tr>\n",
       "    <tr>\n",
       "      <th>8247746</th>\n",
       "      <td>8221.581286</td>\n",
       "      <td>2778.691286</td>\n",
       "      <td>188215.042857</td>\n",
       "      <td>18</td>\n",
       "    </tr>\n",
       "    <tr>\n",
       "      <th>8763474</th>\n",
       "      <td>2149.735000</td>\n",
       "      <td>2280.806714</td>\n",
       "      <td>190717.528571</td>\n",
       "      <td>18</td>\n",
       "    </tr>\n",
       "    <tr>\n",
       "      <th>9016299</th>\n",
       "      <td>9618.812143</td>\n",
       "      <td>490.899000</td>\n",
       "      <td>185130.900000</td>\n",
       "      <td>18</td>\n",
       "    </tr>\n",
       "    <tr>\n",
       "      <th>9061315</th>\n",
       "      <td>7152.710714</td>\n",
       "      <td>4788.358286</td>\n",
       "      <td>190070.885714</td>\n",
       "      <td>18</td>\n",
       "    </tr>\n",
       "  </tbody>\n",
       "</table>\n",
       "</div>"
      ],
      "text/plain": [
       "                   x            y              z  cube_id\n",
       "559677   7661.077000  3611.538714  189034.914286       18\n",
       "559678   7693.832286  3557.487143  189024.285714       18\n",
       "559679   7606.628714  3673.520143  189016.828571       18\n",
       "559680   7554.297571  3691.686714  189076.971429       18\n",
       "559681   7680.904714  3638.647857  188842.428571       18\n",
       "559682   7575.853857  3636.997714  188635.085714       18\n",
       "559683   7937.513286  2928.326571  188384.928571       18\n",
       "559684   7723.461857  3580.341857  189027.028571       18\n",
       "559685   7527.214000  3646.899714  189125.000000       18\n",
       "559686   7722.066857  3359.199286  188991.428571       18\n",
       "559687   7761.647571  3517.407286  188708.642857       18\n",
       "559688   7756.065857  4235.255714  189249.800000       18\n",
       "559689   7466.008714  3169.034286  188456.971429       18\n",
       "559690   7484.557714  3162.170714  188433.185714       18\n",
       "3552016  2905.761429  2807.302714  189536.157143       18\n",
       "3888726  5965.777714  4046.152714  190283.742857       18\n",
       "4035217  2415.423714   740.678014  189237.414286       18\n",
       "4791314  9643.245714  3298.630714  186071.914286       18\n",
       "4791315  9802.853000  3384.228143  186075.500000       18\n",
       "5551661  7440.531571   212.956871  187663.457143       18\n",
       "5680227  2235.045286  9765.736571  187751.757143       18\n",
       "6565050  2405.056571   379.679343  188893.328571       18\n",
       "7012090  9352.497857  1837.541000  185636.885714       18\n",
       "7735782   141.212060  7866.600143  181568.514286       18\n",
       "8247746  8221.581286  2778.691286  188215.042857       18\n",
       "8763474  2149.735000  2280.806714  190717.528571       18\n",
       "9016299  9618.812143   490.899000  185130.900000       18\n",
       "9061315  7152.710714  4788.358286  190070.885714       18"
      ]
     },
     "execution_count": 167,
     "metadata": {},
     "output_type": "execute_result"
    }
   ],
   "source": [
    "dff2[dff2['cube_id']==18]"
   ]
  },
  {
   "cell_type": "code",
   "execution_count": 169,
   "metadata": {},
   "outputs": [
    {
     "data": {
      "text/plain": [
       "cube_id\n",
       "0          7\n",
       "1         15\n",
       "2         33\n",
       "3          8\n",
       "5          5\n",
       "          ..\n",
       "753564     6\n",
       "753565    10\n",
       "753566     2\n",
       "753569     2\n",
       "753570     2\n",
       "Length: 670039, dtype: int64"
      ]
     },
     "execution_count": 169,
     "metadata": {},
     "output_type": "execute_result"
    }
   ],
   "source": [
    "dff2.groupby('cube_id').size()"
   ]
  },
  {
   "cell_type": "code",
   "execution_count": 60,
   "metadata": {},
   "outputs": [
    {
     "data": {
      "text/plain": [
       "<mpl_toolkits.mplot3d.art3d.Path3DCollection at 0x7f9405e991f0>"
      ]
     },
     "execution_count": 60,
     "metadata": {},
     "output_type": "execute_result"
    },
    {
     "data": {
      "image/png": "[encoded data removed]",
      "text/plain": [
       "<Figure size 640x480 with 1 Axes>"
      ]
     },
     "metadata": {},
     "output_type": "display_data"
    }
   ],
   "source": [
    "fig = plt.figure()\n",
    "ax = fig.add_subplot(111, projection='3d')\n",
    "ax.scatter((np.array(dd['x'])*u.kpc).to(u.Mpc), (np.array(dd['y'])*u.kpc).to(u.Mpc), (np.array(dd['z'])*u.kpc).to(u.Mpc))"
   ]
  },
  {
   "cell_type": "code",
   "execution_count": 62,
   "metadata": {},
   "outputs": [
    {
     "data": {
      "text/plain": [
       "10003.471428571502"
      ]
     },
     "execution_count": 62,
     "metadata": {},
     "output_type": "execute_result"
    }
   ],
   "source": []
  },
  {
   "cell_type": "code",
   "execution_count": 54,
   "metadata": {},
   "outputs": [
    {
     "data": {
      "text/plain": [
       "<matplotlib.collections.PathCollection at 0x7f9408ca2c40>"
      ]
     },
     "execution_count": 54,
     "metadata": {},
     "output_type": "execute_result"
    },
    {
     "data": {
      "image/png": "[encoded data removed]",
      "text/plain": [
       "<Figure size 640x480 with 1 Axes>"
      ]
     },
     "metadata": {},
     "output_type": "display_data"
    }
   ],
   "source": []
  },
  {
   "cell_type": "code",
   "execution_count": 28,
   "metadata": {},
   "outputs": [
    {
     "data": {
      "text/plain": [
       "753571"
      ]
     },
     "execution_count": 28,
     "metadata": {},
     "output_type": "execute_result"
    }
   ],
   "source": [
    "91**3"
   ]
  },
  {
   "cell_type": "code",
   "execution_count": 21,
   "metadata": {},
   "outputs": [],
   "source": [
    "# assuming df1 and df2 are your dataframes and their columns are ['x', 'y', 'z']\n",
    "\n",
    "# let's say n is provided by the user\n",
    "n = 91  # replace this with the actual input\n",
    "\n",
    "# getting the range of the cube from dataframe1\n",
    "x_min, x_max = df1['x'].min(), df1['x'].max()\n",
    "y_min, y_max = df1['y'].min(), df1['y'].max()\n",
    "z_min, z_max = df1['z'].min(), df1['z'].max()\n",
    "\n",
    "# defining the edges for each dimension\n",
    "edges = [np.linspace(x_min, x_max, num=n+1),\n",
    "         np.linspace(y_min, y_max, num=n+1),\n",
    "         np.linspace(z_min, z_max, num=n+1)]\n",
    "\n",
    "# Create a 3D array to hold the unique cube IDs. We create it as a 1D array first, then reshape it.\n",
    "cube_ids = np.arange(n**3).reshape(n, n, n)\n"
   ]
  },
  {
   "cell_type": "code",
   "execution_count": 25,
   "metadata": {},
   "outputs": [
    {
     "data": {
      "text/plain": [
       "array([[10046.97167078, 10046.97167078, 10046.97167078, 10046.97167078,\n",
       "        10046.97167078, 10046.97167078, 10046.97167078, 10046.97167078,\n",
       "        10046.97167078, 10046.97167078, 10046.97167078, 10046.97167078,\n",
       "        10046.97167078, 10046.97167078, 10046.97167078, 10046.97167078,\n",
       "        10046.97167078, 10046.97167078, 10046.97167078, 10046.97167078,\n",
       "        10046.97167078, 10046.97167078, 10046.97167078, 10046.97167078,\n",
       "        10046.97167078, 10046.97167078, 10046.97167078, 10046.97167078,\n",
       "        10046.97167078, 10046.97167078, 10046.97167078, 10046.97167078,\n",
       "        10046.97167078, 10046.97167078, 10046.97167078, 10046.97167078,\n",
       "        10046.97167078, 10046.97167078, 10046.97167078, 10046.97167078,\n",
       "        10046.97167078, 10046.97167078, 10046.97167078, 10046.97167078,\n",
       "        10046.97167078, 10046.97167078, 10046.97167078, 10046.97167078,\n",
       "        10046.97167078, 10046.97167078, 10046.97167078, 10046.97167078,\n",
       "        10046.97167078, 10046.97167078, 10046.97167078, 10046.97167078,\n",
       "        10046.97167078, 10046.97167078, 10046.97167078, 10046.97167078,\n",
       "        10046.97167078, 10046.97167078, 10046.97167078, 10046.97167078,\n",
       "        10046.97167078, 10046.97167078, 10046.97167078, 10046.97167078,\n",
       "        10046.97167078, 10046.97167078, 10046.97167078, 10046.97167078,\n",
       "        10046.97167078, 10046.97167078, 10046.97167078, 10046.97167078,\n",
       "        10046.97167078, 10046.97167078, 10046.97167078, 10046.97167078,\n",
       "        10046.97167078, 10046.97167078, 10046.97167078, 10046.97167078,\n",
       "        10046.97167078, 10046.97167078, 10046.97167078, 10046.97167078,\n",
       "        10046.97167078, 10046.97167078, 10046.97167078],\n",
       "       [10046.17157055, 10046.17157055, 10046.17157055, 10046.17157055,\n",
       "        10046.17157055, 10046.17157055, 10046.17157055, 10046.17157055,\n",
       "        10046.17157055, 10046.17157055, 10046.17157055, 10046.17157055,\n",
       "        10046.17157055, 10046.17157055, 10046.17157055, 10046.17157055,\n",
       "        10046.17157055, 10046.17157055, 10046.17157055, 10046.17157055,\n",
       "        10046.17157055, 10046.17157055, 10046.17157055, 10046.17157055,\n",
       "        10046.17157055, 10046.17157055, 10046.17157055, 10046.17157055,\n",
       "        10046.17157055, 10046.17157055, 10046.17157055, 10046.17157055,\n",
       "        10046.17157055, 10046.17157055, 10046.17157055, 10046.17157055,\n",
       "        10046.17157055, 10046.17157055, 10046.17157055, 10046.17157055,\n",
       "        10046.17157055, 10046.17157055, 10046.17157055, 10046.17157055,\n",
       "        10046.17157055, 10046.17157055, 10046.17157055, 10046.17157055,\n",
       "        10046.17157055, 10046.17157055, 10046.17157055, 10046.17157055,\n",
       "        10046.17157055, 10046.17157055, 10046.17157055, 10046.17157055,\n",
       "        10046.17157055, 10046.17157055, 10046.17157055, 10046.17157055,\n",
       "        10046.17157055, 10046.17157055, 10046.17157055, 10046.17157055,\n",
       "        10046.17157055, 10046.17157055, 10046.17157055, 10046.17157055,\n",
       "        10046.17157055, 10046.17157055, 10046.17157055, 10046.17157055,\n",
       "        10046.17157055, 10046.17157055, 10046.17157055, 10046.17157055,\n",
       "        10046.17157055, 10046.17157055, 10046.17157055, 10046.17157055,\n",
       "        10046.17157055, 10046.17157055, 10046.17157055, 10046.17157055,\n",
       "        10046.17157055, 10046.17157055, 10046.17157055, 10046.17157055,\n",
       "        10046.17157055, 10046.17157055, 10046.17157055],\n",
       "       [10046.92443534, 10046.92443534, 10046.92443534, 10046.92443534,\n",
       "        10046.92443534, 10046.92443534, 10046.92443534, 10046.92443534,\n",
       "        10046.92443534, 10046.92443534, 10046.92443534, 10046.92443534,\n",
       "        10046.92443534, 10046.92443534, 10046.92443534, 10046.92443534,\n",
       "        10046.92443534, 10046.92443534, 10046.92443534, 10046.92443534,\n",
       "        10046.92443534, 10046.92443534, 10046.92443534, 10046.92443534,\n",
       "        10046.92443534, 10046.92443534, 10046.92443534, 10046.92443534,\n",
       "        10046.92443534, 10046.92443534, 10046.92443534, 10046.92443534,\n",
       "        10046.92443534, 10046.92443534, 10046.92443534, 10046.92443534,\n",
       "        10046.92443534, 10046.92443534, 10046.92443534, 10046.92443534,\n",
       "        10046.92443534, 10046.92443534, 10046.92443534, 10046.92443534,\n",
       "        10046.92443534, 10046.92443534, 10046.92443534, 10046.92443534,\n",
       "        10046.92443534, 10046.92443534, 10046.92443534, 10046.92443534,\n",
       "        10046.92443534, 10046.92443534, 10046.92443534, 10046.92443534,\n",
       "        10046.92443534, 10046.92443534, 10046.92443534, 10046.92443534,\n",
       "        10046.92443534, 10046.92443534, 10046.92443534, 10046.92443534,\n",
       "        10046.92443534, 10046.92443534, 10046.92443534, 10046.92443534,\n",
       "        10046.92443534, 10046.92443534, 10046.92443534, 10046.92443534,\n",
       "        10046.92443534, 10046.92443534, 10046.92443534, 10046.92443534,\n",
       "        10046.92443534, 10046.92443534, 10046.92443534, 10046.92443534,\n",
       "        10046.92443534, 10046.92443534, 10046.92443534, 10046.92443534,\n",
       "        10046.92443534, 10046.92443534, 10046.92443534, 10046.92443534,\n",
       "        10046.92443534, 10046.92443534, 10046.92443534]])"
      ]
     },
     "execution_count": 25,
     "metadata": {},
     "output_type": "execute_result"
    }
   ],
   "source": [
    "np.diff(edges)"
   ]
  },
  {
   "cell_type": "code",
   "execution_count": 23,
   "metadata": {},
   "outputs": [
    {
     "ename": "IndexError",
     "evalue": "index 91 is out of bounds for axis 1 with size 91",
     "output_type": "error",
     "traceback": [
      "\u001b[0;31m---------------------------------------------------------------------------\u001b[0m",
      "\u001b[0;31mIndexError\u001b[0m                                Traceback (most recent call last)",
      "Cell \u001b[0;32mIn[23], line 9\u001b[0m\n\u001b[1;32m      6\u001b[0m     \u001b[39mreturn\u001b[39;00m cube_ids[x_index, y_index, z_index]\n\u001b[1;32m      8\u001b[0m \u001b[39m# Add cube_id to each galaxy in dataframe2\u001b[39;00m\n\u001b[0;32m----> 9\u001b[0m df2[\u001b[39m'\u001b[39m\u001b[39mcube_id\u001b[39m\u001b[39m'\u001b[39m] \u001b[39m=\u001b[39m df2\u001b[39m.\u001b[39;49mapply(get_cube_id, axis\u001b[39m=\u001b[39;49m\u001b[39m1\u001b[39;49m)\n",
      "File \u001b[0;32m~/Softwares/anaconda3/lib/python3.8/site-packages/pandas/core/frame.py:8839\u001b[0m, in \u001b[0;36mDataFrame.apply\u001b[0;34m(self, func, axis, raw, result_type, args, **kwargs)\u001b[0m\n\u001b[1;32m   8828\u001b[0m \u001b[39mfrom\u001b[39;00m \u001b[39mpandas\u001b[39;00m\u001b[39m.\u001b[39;00m\u001b[39mcore\u001b[39;00m\u001b[39m.\u001b[39;00m\u001b[39mapply\u001b[39;00m \u001b[39mimport\u001b[39;00m frame_apply\n\u001b[1;32m   8830\u001b[0m op \u001b[39m=\u001b[39m frame_apply(\n\u001b[1;32m   8831\u001b[0m     \u001b[39mself\u001b[39m,\n\u001b[1;32m   8832\u001b[0m     func\u001b[39m=\u001b[39mfunc,\n\u001b[0;32m   (...)\u001b[0m\n\u001b[1;32m   8837\u001b[0m     kwargs\u001b[39m=\u001b[39mkwargs,\n\u001b[1;32m   8838\u001b[0m )\n\u001b[0;32m-> 8839\u001b[0m \u001b[39mreturn\u001b[39;00m op\u001b[39m.\u001b[39;49mapply()\u001b[39m.\u001b[39m__finalize__(\u001b[39mself\u001b[39m, method\u001b[39m=\u001b[39m\u001b[39m\"\u001b[39m\u001b[39mapply\u001b[39m\u001b[39m\"\u001b[39m)\n",
      "File \u001b[0;32m~/Softwares/anaconda3/lib/python3.8/site-packages/pandas/core/apply.py:727\u001b[0m, in \u001b[0;36mFrameApply.apply\u001b[0;34m(self)\u001b[0m\n\u001b[1;32m    724\u001b[0m \u001b[39melif\u001b[39;00m \u001b[39mself\u001b[39m\u001b[39m.\u001b[39mraw:\n\u001b[1;32m    725\u001b[0m     \u001b[39mreturn\u001b[39;00m \u001b[39mself\u001b[39m\u001b[39m.\u001b[39mapply_raw()\n\u001b[0;32m--> 727\u001b[0m \u001b[39mreturn\u001b[39;00m \u001b[39mself\u001b[39;49m\u001b[39m.\u001b[39;49mapply_standard()\n",
      "File \u001b[0;32m~/Softwares/anaconda3/lib/python3.8/site-packages/pandas/core/apply.py:851\u001b[0m, in \u001b[0;36mFrameApply.apply_standard\u001b[0;34m(self)\u001b[0m\n\u001b[1;32m    850\u001b[0m \u001b[39mdef\u001b[39;00m \u001b[39mapply_standard\u001b[39m(\u001b[39mself\u001b[39m):\n\u001b[0;32m--> 851\u001b[0m     results, res_index \u001b[39m=\u001b[39m \u001b[39mself\u001b[39;49m\u001b[39m.\u001b[39;49mapply_series_generator()\n\u001b[1;32m    853\u001b[0m     \u001b[39m# wrap results\u001b[39;00m\n\u001b[1;32m    854\u001b[0m     \u001b[39mreturn\u001b[39;00m \u001b[39mself\u001b[39m\u001b[39m.\u001b[39mwrap_results(results, res_index)\n",
      "File \u001b[0;32m~/Softwares/anaconda3/lib/python3.8/site-packages/pandas/core/apply.py:867\u001b[0m, in \u001b[0;36mFrameApply.apply_series_generator\u001b[0;34m(self)\u001b[0m\n\u001b[1;32m    864\u001b[0m \u001b[39mwith\u001b[39;00m option_context(\u001b[39m\"\u001b[39m\u001b[39mmode.chained_assignment\u001b[39m\u001b[39m\"\u001b[39m, \u001b[39mNone\u001b[39;00m):\n\u001b[1;32m    865\u001b[0m     \u001b[39mfor\u001b[39;00m i, v \u001b[39min\u001b[39;00m \u001b[39menumerate\u001b[39m(series_gen):\n\u001b[1;32m    866\u001b[0m         \u001b[39m# ignore SettingWithCopy here in case the user mutates\u001b[39;00m\n\u001b[0;32m--> 867\u001b[0m         results[i] \u001b[39m=\u001b[39m \u001b[39mself\u001b[39;49m\u001b[39m.\u001b[39;49mf(v)\n\u001b[1;32m    868\u001b[0m         \u001b[39mif\u001b[39;00m \u001b[39misinstance\u001b[39m(results[i], ABCSeries):\n\u001b[1;32m    869\u001b[0m             \u001b[39m# If we have a view on v, we need to make a copy because\u001b[39;00m\n\u001b[1;32m    870\u001b[0m             \u001b[39m#  series_generator will swap out the underlying data\u001b[39;00m\n\u001b[1;32m    871\u001b[0m             results[i] \u001b[39m=\u001b[39m results[i]\u001b[39m.\u001b[39mcopy(deep\u001b[39m=\u001b[39m\u001b[39mFalse\u001b[39;00m)\n",
      "Cell \u001b[0;32mIn[23], line 6\u001b[0m, in \u001b[0;36mget_cube_id\u001b[0;34m(pos)\u001b[0m\n\u001b[1;32m      4\u001b[0m y_index \u001b[39m=\u001b[39m np\u001b[39m.\u001b[39mdigitize(pos[\u001b[39m1\u001b[39m], edges[\u001b[39m1\u001b[39m]) \u001b[39m-\u001b[39m \u001b[39m1\u001b[39m\n\u001b[1;32m      5\u001b[0m z_index \u001b[39m=\u001b[39m np\u001b[39m.\u001b[39mdigitize(pos[\u001b[39m2\u001b[39m], edges[\u001b[39m2\u001b[39m]) \u001b[39m-\u001b[39m \u001b[39m1\u001b[39m\n\u001b[0;32m----> 6\u001b[0m \u001b[39mreturn\u001b[39;00m cube_ids[x_index, y_index, z_index]\n",
      "\u001b[0;31mIndexError\u001b[0m: index 91 is out of bounds for axis 1 with size 91"
     ]
    }
   ],
   "source": [
    "\n",
    "# Function to get cube ID for a given x, y, z position\n",
    "def get_cube_id(pos):\n",
    "    x_index = np.digitize(pos[0], edges[0]) - 1\n",
    "    y_index = np.digitize(pos[1], edges[1]) - 1\n",
    "    z_index = np.digitize(pos[2], edges[2]) - 1\n",
    "    return cube_ids[x_index, y_index, z_index]\n",
    "\n",
    "# Add cube_id to each galaxy in dataframe2\n",
    "df2['cube_id'] = df2.apply(get_cube_id, axis=1)"
   ]
  },
  {
   "cell_type": "code",
   "execution_count": 16,
   "metadata": {},
   "outputs": [
    {
     "data": {
      "text/html": [
       "<div>\n",
       "<style scoped>\n",
       "    .dataframe tbody tr th:only-of-type {\n",
       "        vertical-align: middle;\n",
       "    }\n",
       "\n",
       "    .dataframe tbody tr th {\n",
       "        vertical-align: top;\n",
       "    }\n",
       "\n",
       "    .dataframe thead th {\n",
       "        text-align: right;\n",
       "    }\n",
       "</style>\n",
       "<table border=\"1\" class=\"dataframe\">\n",
       "  <thead>\n",
       "    <tr style=\"text-align: right;\">\n",
       "      <th></th>\n",
       "      <th>x</th>\n",
       "      <th>y</th>\n",
       "      <th>z</th>\n",
       "      <th>vx</th>\n",
       "      <th>vy</th>\n",
       "      <th>vz</th>\n",
       "      <th>cube_x</th>\n",
       "      <th>cube_y</th>\n",
       "      <th>cube_z</th>\n",
       "      <th>cube_id</th>\n",
       "      <th>velocity</th>\n",
       "    </tr>\n",
       "  </thead>\n",
       "  <tbody>\n",
       "    <tr>\n",
       "      <th>0</th>\n",
       "      <td>331668.485714</td>\n",
       "      <td>632168.971429</td>\n",
       "      <td>645139.057143</td>\n",
       "      <td>88.2910</td>\n",
       "      <td>-206.33800</td>\n",
       "      <td>290.3190</td>\n",
       "      <td>33</td>\n",
       "      <td>62</td>\n",
       "      <td>64</td>\n",
       "      <td>278979</td>\n",
       "      <td>NaN</td>\n",
       "    </tr>\n",
       "    <tr>\n",
       "      <th>1</th>\n",
       "      <td>255348.571429</td>\n",
       "      <td>616694.328571</td>\n",
       "      <td>618932.728571</td>\n",
       "      <td>-192.5920</td>\n",
       "      <td>-227.84900</td>\n",
       "      <td>-404.3990</td>\n",
       "      <td>25</td>\n",
       "      <td>61</td>\n",
       "      <td>61</td>\n",
       "      <td>212637</td>\n",
       "      <td>NaN</td>\n",
       "    </tr>\n",
       "    <tr>\n",
       "      <th>2</th>\n",
       "      <td>78788.437143</td>\n",
       "      <td>650603.300000</td>\n",
       "      <td>908410.714286</td>\n",
       "      <td>37.6421</td>\n",
       "      <td>-165.25100</td>\n",
       "      <td>54.8057</td>\n",
       "      <td>7</td>\n",
       "      <td>64</td>\n",
       "      <td>90</td>\n",
       "      <td>63881</td>\n",
       "      <td>NaN</td>\n",
       "    </tr>\n",
       "    <tr>\n",
       "      <th>3</th>\n",
       "      <td>780125.985714</td>\n",
       "      <td>453116.557143</td>\n",
       "      <td>461240.671429</td>\n",
       "      <td>223.4660</td>\n",
       "      <td>198.29900</td>\n",
       "      <td>-311.9810</td>\n",
       "      <td>77</td>\n",
       "      <td>45</td>\n",
       "      <td>45</td>\n",
       "      <td>641777</td>\n",
       "      <td>NaN</td>\n",
       "    </tr>\n",
       "    <tr>\n",
       "      <th>4</th>\n",
       "      <td>653411.428571</td>\n",
       "      <td>314633.085714</td>\n",
       "      <td>399264.285714</td>\n",
       "      <td>-234.9400</td>\n",
       "      <td>152.48200</td>\n",
       "      <td>-224.1430</td>\n",
       "      <td>65</td>\n",
       "      <td>31</td>\n",
       "      <td>39</td>\n",
       "      <td>541125</td>\n",
       "      <td>NaN</td>\n",
       "    </tr>\n",
       "    <tr>\n",
       "      <th>...</th>\n",
       "      <td>...</td>\n",
       "      <td>...</td>\n",
       "      <td>...</td>\n",
       "      <td>...</td>\n",
       "      <td>...</td>\n",
       "      <td>...</td>\n",
       "      <td>...</td>\n",
       "      <td>...</td>\n",
       "      <td>...</td>\n",
       "      <td>...</td>\n",
       "      <td>...</td>\n",
       "    </tr>\n",
       "    <tr>\n",
       "      <th>42023</th>\n",
       "      <td>432932.857143</td>\n",
       "      <td>702466.157143</td>\n",
       "      <td>272588.400000</td>\n",
       "      <td>284.8770</td>\n",
       "      <td>-264.46500</td>\n",
       "      <td>101.3530</td>\n",
       "      <td>43</td>\n",
       "      <td>69</td>\n",
       "      <td>27</td>\n",
       "      <td>362389</td>\n",
       "      <td>NaN</td>\n",
       "    </tr>\n",
       "    <tr>\n",
       "      <th>42024</th>\n",
       "      <td>852456.514286</td>\n",
       "      <td>721343.128571</td>\n",
       "      <td>742103.571429</td>\n",
       "      <td>-594.0110</td>\n",
       "      <td>-1.85447</td>\n",
       "      <td>-107.5430</td>\n",
       "      <td>84</td>\n",
       "      <td>71</td>\n",
       "      <td>73</td>\n",
       "      <td>702138</td>\n",
       "      <td>NaN</td>\n",
       "    </tr>\n",
       "    <tr>\n",
       "      <th>42025</th>\n",
       "      <td>610825.271429</td>\n",
       "      <td>669634.242857</td>\n",
       "      <td>114618.024286</td>\n",
       "      <td>-156.6090</td>\n",
       "      <td>-482.48100</td>\n",
       "      <td>4.9137</td>\n",
       "      <td>60</td>\n",
       "      <td>66</td>\n",
       "      <td>11</td>\n",
       "      <td>502877</td>\n",
       "      <td>NaN</td>\n",
       "    </tr>\n",
       "    <tr>\n",
       "      <th>42026</th>\n",
       "      <td>381813.028571</td>\n",
       "      <td>306233.614286</td>\n",
       "      <td>668153.342857</td>\n",
       "      <td>151.6930</td>\n",
       "      <td>296.48600</td>\n",
       "      <td>47.2007</td>\n",
       "      <td>38</td>\n",
       "      <td>30</td>\n",
       "      <td>66</td>\n",
       "      <td>317474</td>\n",
       "      <td>NaN</td>\n",
       "    </tr>\n",
       "    <tr>\n",
       "      <th>42027</th>\n",
       "      <td>167086.257143</td>\n",
       "      <td>227894.614286</td>\n",
       "      <td>283367.771429</td>\n",
       "      <td>123.7110</td>\n",
       "      <td>673.25300</td>\n",
       "      <td>121.2460</td>\n",
       "      <td>16</td>\n",
       "      <td>22</td>\n",
       "      <td>28</td>\n",
       "      <td>134526</td>\n",
       "      <td>NaN</td>\n",
       "    </tr>\n",
       "  </tbody>\n",
       "</table>\n",
       "<p>42028 rows × 11 columns</p>\n",
       "</div>"
      ],
      "text/plain": [
       "                   x              y              z        vx         vy  \\\n",
       "0      331668.485714  632168.971429  645139.057143   88.2910 -206.33800   \n",
       "1      255348.571429  616694.328571  618932.728571 -192.5920 -227.84900   \n",
       "2       78788.437143  650603.300000  908410.714286   37.6421 -165.25100   \n",
       "3      780125.985714  453116.557143  461240.671429  223.4660  198.29900   \n",
       "4      653411.428571  314633.085714  399264.285714 -234.9400  152.48200   \n",
       "...              ...            ...            ...       ...        ...   \n",
       "42023  432932.857143  702466.157143  272588.400000  284.8770 -264.46500   \n",
       "42024  852456.514286  721343.128571  742103.571429 -594.0110   -1.85447   \n",
       "42025  610825.271429  669634.242857  114618.024286 -156.6090 -482.48100   \n",
       "42026  381813.028571  306233.614286  668153.342857  151.6930  296.48600   \n",
       "42027  167086.257143  227894.614286  283367.771429  123.7110  673.25300   \n",
       "\n",
       "             vz  cube_x  cube_y  cube_z  cube_id  velocity  \n",
       "0      290.3190      33      62      64   278979       NaN  \n",
       "1     -404.3990      25      61      61   212637       NaN  \n",
       "2       54.8057       7      64      90    63881       NaN  \n",
       "3     -311.9810      77      45      45   641777       NaN  \n",
       "4     -224.1430      65      31      39   541125       NaN  \n",
       "...         ...     ...     ...     ...      ...       ...  \n",
       "42023  101.3530      43      69      27   362389       NaN  \n",
       "42024 -107.5430      84      71      73   702138       NaN  \n",
       "42025    4.9137      60      66      11   502877       NaN  \n",
       "42026   47.2007      38      30      66   317474       NaN  \n",
       "42027  121.2460      16      22      28   134526       NaN  \n",
       "\n",
       "[42028 rows x 11 columns]"
      ]
     },
     "execution_count": 16,
     "metadata": {},
     "output_type": "execute_result"
    }
   ],
   "source": [
    "df1"
   ]
  },
  {
   "cell_type": "code",
   "execution_count": 34,
   "metadata": {},
   "outputs": [
    {
     "data": {
      "text/plain": [
       "88693.0     481\n",
       "361266.0    417\n",
       "510717.0    384\n",
       "426933.0    373\n",
       "325845.0    369\n",
       "           ... \n",
       "6212.0        1\n",
       "428930.0      1\n",
       "176109.0      1\n",
       "155633.0      1\n",
       "718784.0      1\n",
       "Name: cube, Length: 670048, dtype: int64"
      ]
     },
     "execution_count": 34,
     "metadata": {},
     "output_type": "execute_result"
    }
   ],
   "source": [
    "counts"
   ]
  },
  {
   "cell_type": "code",
   "execution_count": null,
   "metadata": {},
   "outputs": [],
   "source": []
  }
 ],
 "metadata": {
  "kernelspec": {
   "display_name": "base",
   "language": "python",
   "name": "python3"
  },
  "language_info": {
   "codemirror_mode": {
    "name": "ipython",
    "version": 3
   },
   "file_extension": ".py",
   "mimetype": "text/x-python",
   "name": "python",
   "nbconvert_exporter": "python",
   "pygments_lexer": "ipython3",
   "version": "3.8.8"
  },
  "orig_nbformat": 4
 },
 "nbformat": 4,
 "nbformat_minor": 2
}
